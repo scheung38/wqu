{
 "cells": [
  {
   "cell_type": "markdown",
   "metadata": {},
   "source": [
    "# Step 1: Heston Model Calibration"
   ]
  },
  {
   "cell_type": "markdown",
   "metadata": {},
   "source": [
    "As Team Member A, my task is to calibrate the Heston (1993) model to the observed market prices for both call and put options. I will use the Lewis (2001) approach with a regular MSE error function. The calibration will be performed on the options with the shortest maturity."
   ]
  },
  {
   "cell_type": "markdown",
   "metadata": {},
   "source": [
    "## 1. Setup and Data Loading"
   ]
  },
  {
   "cell_type": "code",
   "execution_count": null,
   "metadata": {},
   "outputs": [],
   "source": [
    "import pandas as pd\n",
    "import numpy as np\n",
    "from scipy.integrate import quad\n",
    "from scipy.optimize import minimize\n",
    "import matplotlib.pyplot as plt"
   ]
  },
  {
   "cell_type": "code",
   "execution_count": null,
   "metadata": {},
   "outputs": [],
   "source": [
    "def load_and_prepare_data(h5_path):\n",
    "    \"\"\"Loads data from HDF5, calculates time to maturity, and filters for the shortest maturity.\"\"\"\n",
    "    with pd.HDFStore(h5_path, 'r') as store:\n",
    "        df = store['data']\n",
    "\n",
    "    df['Date'] = pd.to_datetime(df['Date'])\n",
    "    df['Maturity'] = pd.to_datetime(df['Maturity'])\n",
    "    df['T'] = (df['Maturity'] - df['Date']).dt.days / 250.0\n",
    "    \n",
    "    min_maturity = df['T'].min()\n",
    "    print(f\"Shortest maturity available: {min_maturity * 250:.0f} days. Using this for calibration.\")\n",
    "    filtered_df = df[df['T'] == min_maturity].copy()\n",
    "    \n",
    "    filtered_df['Mid_Price'] = (filtered_df['Call'] + filtered_df['Put']) / 2\n",
    "    return filtered_df, min_maturity"
   ]
  },
  {
   "cell_type": "code",
   "execution_count": null,
   "metadata": {},
   "outputs": [],
   "source": [
    "H5_PATH = 'option_data_wqu.h5'\n",
    "S0 = 232.90\n",
    "R = 0.015\n",
    "\n",
    "option_data, maturity = load_and_prepare_data(H5_PATH)\n",
    "\n",
    "print("\nOption Data for Shortest Maturity:")\n",
    "print(option_data.head())"
   ]
  },
  {
   "cell_type": "markdown",
   "metadata": {},
   "source": [
    "## 2. Heston Model Implementation"
   ]
  },
  {
   "cell_type": "code",
   "execution_count": null,
   "metadata": {},
   "outputs": [],
   "source": [
    "def heston_char_func(u, T, r, kappa, theta, sigma, rho, v0):\n",
    "    \"\"\"Heston characteristic function.\"\"\"\n",
    "    d = np.sqrt((rho * sigma * u * 1j - kappa)**2 - sigma**2 * (-u * 1j - u**2))\n",
    "    g = (kappa - rho * sigma * u * 1j - d) / (kappa - rho * sigma * u * 1j + d)\n",
    "    \n",
    "    C = (r * u * 1j * T + (kappa * theta) / (sigma**2) * \n",
    "         ((kappa - rho * sigma * u * 1j - d) * T - 2 * np.log((1 - g * np.exp(-d * T)) / (1 - g))))\n",
    "         \n",
    "    D = ((kappa - rho * sigma * u * 1j - d) / (sigma**2) * \n",
    "         ((1 - np.exp(-d * T)) / (1 - g * np.exp(-d * T))))\n",
    "         \n",
    "    return np.exp(C + D * v0)"
   ]
  },
  {
   "cell_type": "code",
   "execution_count": null,
   "metadata": {},
   "outputs": [],
   "source": [
    "def heston_price_lewis(S0, K, T, r, kappa, theta, sigma, rho, v0):\n",
    "    \"\"\"Price a European call option using the Heston model and Lewis (2001) formula.\"\"\"\n",
    "    def integrand(u):\n",
    "        return np.real(\n",
    "            np.exp(-1j * u * np.log(K)) * \n",
    "            heston_char_func(u - 0.5j, T, r, kappa, theta, sigma, rho, v0) / \n",
    "            (u**2 + 0.25)\n",
    "        )\n",
    "    \n",
    "    integral = quad(integrand, 0, np.inf, limit=1000)[0]\n",
    "    price = S0 - (np.sqrt(S0 * K) * np.exp(-r * T) / np.pi) * integral\n",
    "    return price"
   ]
  },
  {
   "cell_type": "markdown",
   "metadata": {},
   "source": [
    "## 3. Calibration"
   ]
  },
  {
   "cell_type": "code",
   "execution_count": null,
   "metadata": {},
   "outputs": [],
   "source": [
    "def calibration_objective(params, data, S0, r):\n",
    "    \"\"\"Objective function to minimize (MSE).\"\"\"\n",
    "    kappa, theta, sigma, rho, v0 = params\n",
    "    \n",
    "    if 2 * kappa * theta < sigma**2:\n",
    "        return np.inf\n",
    "\n",
    "    model_prices = []\n",
    "    for i, row in data.iterrows():\n",
    "        K = row['Strike']\n",
    "        T = row['T']\n",
    "        \n",
    "        # Price the call option\n",
    "        call_price = heston_price_lewis(S0, K, T, r, kappa, theta, sigma, rho, v0)\n",
    "        \n",
    "        # Use put-call parity to get the put price\n",
    "        put_price = call_price - S0 + K * np.exp(-r * T)\n",
    "        \n",
    "        # Decide whether to use call or put price based on which is more likely\n",
    "        if row['Put'] > row['Call']:\n",
    "            model_prices.append(put_price)\n",
    "        else:\n",
    "            model_prices.append(call_price)\n",
    "            \n",
    "    data['Model_Price'] = model_prices\n",
    "    \n",
    "    mse = np.mean((data['Mid_Price'] - data['Model_Price'])**2)\n",
    "    print(f\"Params: [k:{kappa:.2f}, t:{theta:.2f}, s:{sigma:.2f}, r:{rho:.2f}, v:{v0:.2f}] | MSE: {mse:.4f}\")\n",
    "    return mse"
   ]
  },
  {
   "cell_type": "code",
   "execution_count": null,
   "metadata": {},
   "outputs": [],
   "source": [
    "initial_params = [3.0, 0.05, 0.5, -0.7, 0.05] \n",
    "bounds = [(0.1, 10), (0.01, 1), (0.1, 2), (-0.99, 0), (0.01, 1)]\n",
    "\n",
    "print("\nStarting calibration...")\n",
    "result = minimize(\n",
    "    calibration_objective,\n",
    "    initial_params,\n",
    "    args=(option_data, S0, R),\n",
    "    method='L-BFGS-B',\n",
    "    bounds=bounds,\n",
    "    options={'maxiter': 500, 'disp': True}\n",
    ")"
   ]
  },
  {
   "cell_type": "markdown",
   "metadata": {},
   "source": [
    "## 4. Output and Visualization"
   ]
  },
  {
   "cell_type": "code",
   "execution_count": null,
   "metadata": {},
   "outputs": [],
   "source": [
    "calibrated_params = result.x\n",
    "print("\n--- Calibration Complete ---")\n",
    "print(f\"Calibrated Heston Parameters:\")\n",
    "print(f\"  kappa (mean reversion speed): {calibrated_params[0]:.4f}\")\n",
    "print(f\"  theta (long-term variance):   {calibrated_params[1]:.4f}\")\n",
    "print(f\"  sigma (vol of vol):           {calibrated_params[2]:.4f}\")\n",
    "print(f\"  rho (correlation):            {calibrated_params[3]:.4f}\")\n",
    "print(f\"  v0 (initial variance):        {calibrated_params[4]:.4f}\")\n",
    "print(f\"Final MSE: {result.fun:.6f}\")"
   ]
  },
  {
   "cell_type": "code",
   "execution_count": null,
   "metadata": {},
   "outputs": [],
   "source": [
    "final_model_prices = []\n",
    "for i, row in option_data.iterrows():\n",
    "    call_price = heston_price_lewis(S0, row['Strike'], row['T'], R, *calibrated_params)\n",
    "    if row['Put'] > row['Call']:\n",
    "        put_price = call_price - S0 + row['Strike'] * np.exp(-R * row['T'])\n",
    "        final_model_prices.append(put_price)\n",
    "    else:\n",
    "        final_model_prices.append(call_price)\n",
    "\n",
    "option_data['Calibrated_Price'] = final_model_prices\n",
    "\n",
    "plt.figure(figsize=(10, 6))\n",
    "plt.scatter(option_data['Strike'], option_data['Call'], label='Market Call Prices', marker='x')\n",
    "plt.scatter(option_data['Strike'], option_data['Put'], label='Market Put Prices', marker='x')\n",
    "plt.plot(option_data['Strike'], option_data['Calibrated_Price'], label='Heston Model Price', color='r', linestyle='--')\n",
    "plt.title('Heston Model Calibration vs. Market Prices')\n",
    "plt.xlabel('Strike Price')\n",
    "plt.ylabel('Option Price')\n",
    "plt.legend()\n",
    "plt.grid(True)\n",
    "plot_path = 'calibration_fit.png'\n",
    "plt.savefig(plot_path)\n",
    "print(f\"\nPlot of the calibration fit saved to: {plot_path}\")"
   ]
  }
 ],
 "metadata": {
  "kernelspec": {
   "display_name": "Python 3",
   "language": "python",
   "name": "python3"
  },
  "language_info": {
   "codemirror_mode": {
    "name": "ipython",
    "version": 3
   },
   "file_extension": ".py",
   "mimetype": "text/x-python",
   "name": "python",
   "nbconvert_exporter": "python",
   "pygments_lexer": "ipython3",
   "version": "3.12.2"
  }
 },
 "nbformat": 4,
 "nbformat_minor": 2
}