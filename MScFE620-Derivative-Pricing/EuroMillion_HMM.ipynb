{
 "cells": [
  {
   "cell_type": "code",
   "execution_count": 1,
   "id": "c98d5b26",
   "metadata": {},
   "outputs": [
    {
     "name": "stdout",
     "output_type": "stream",
     "text": [
      "Requirement already satisfied: numpy in ./.venv/lib/python3.12/site-packages (2.3.0)\n",
      "Requirement already satisfied: pandas in ./.venv/lib/python3.12/site-packages (2.3.0)\n",
      "Requirement already satisfied: hmmlearn in ./.venv/lib/python3.12/site-packages (0.3.3)\n",
      "Requirement already satisfied: python-dateutil>=2.8.2 in ./.venv/lib/python3.12/site-packages (from pandas) (2.9.0.post0)\n",
      "Requirement already satisfied: pytz>=2020.1 in ./.venv/lib/python3.12/site-packages (from pandas) (2025.2)\n",
      "Requirement already satisfied: tzdata>=2022.7 in ./.venv/lib/python3.12/site-packages (from pandas) (2025.2)\n",
      "Requirement already satisfied: scikit-learn!=0.22.0,>=0.16 in ./.venv/lib/python3.12/site-packages (from hmmlearn) (1.7.0)\n",
      "Requirement already satisfied: scipy>=0.19 in ./.venv/lib/python3.12/site-packages (from hmmlearn) (1.15.3)\n",
      "Requirement already satisfied: six>=1.5 in ./.venv/lib/python3.12/site-packages (from python-dateutil>=2.8.2->pandas) (1.17.0)\n",
      "Requirement already satisfied: joblib>=1.2.0 in ./.venv/lib/python3.12/site-packages (from scikit-learn!=0.22.0,>=0.16->hmmlearn) (1.5.1)\n",
      "Requirement already satisfied: threadpoolctl>=3.1.0 in ./.venv/lib/python3.12/site-packages (from scikit-learn!=0.22.0,>=0.16->hmmlearn) (3.6.0)\n",
      "Note: you may need to restart the kernel to use updated packages.\n"
     ]
    }
   ],
   "source": [
    "%pip install numpy pandas hmmlearn"
   ]
  },
  {
   "cell_type": "code",
   "execution_count": 3,
   "id": "881266bb",
   "metadata": {},
   "outputs": [
    {
     "name": "stdout",
     "output_type": "stream",
     "text": [
      "Draw 1: Main Numbers = [24, 30, 39, 42, 45], Lucky Stars = [4, 5]\n",
      "Draw 2: Main Numbers = [6, 8, 28, 46, 50], Lucky Stars = [9, 12]\n",
      "Draw 3: Main Numbers = [8, 14, 29, 33, 50], Lucky Stars = [4, 10]\n",
      "Draw 4: Main Numbers = [20, 29, 35, 42, 47], Lucky Stars = [5, 7]\n",
      "Draw 5: Main Numbers = [6, 21, 33, 36, 43], Lucky Stars = [8, 11]\n"
     ]
    }
   ],
   "source": [
    "import pandas as pd\n",
    "import numpy as np\n",
    "from collections import defaultdict, Counter\n",
    "import random\n",
    "\n",
    "# Load your historical data (replace with your actual CSV path)\n",
    "df = pd.read_csv(\"euromillions-draw-history.csv\")\n",
    "\n",
    "# Extract main numbers and Lucky Stars\n",
    "main_draws = df[['Ball 1', 'Ball 2', 'Ball 3', 'Ball 4', 'Ball 5']].astype(int).values\n",
    "star_draws = df[['Lucky Star 1', 'Lucky Star 2']].astype(int).values\n",
    "\n",
    "# Build transition models for each number position\n",
    "def build_markov_model(draws, num_positions):\n",
    "    transition_models = [defaultdict(Counter) for _ in range(num_positions)]\n",
    "    for draw in draws:\n",
    "        for i in range(num_positions - 1):\n",
    "            curr_num = draw[i]\n",
    "            next_num = draw[i + 1]\n",
    "            transition_models[i][curr_num][next_num] += 1\n",
    "    return transition_models\n",
    "\n",
    "# Sample a draw from the Markov model\n",
    "def sample_markov_draw(model, num_count, max_number):\n",
    "    draw = []\n",
    "    curr = random.randint(1, max_number)\n",
    "    draw.append(curr)\n",
    "\n",
    "    for i in range(num_count - 1):\n",
    "        next_choices = model[i].get(curr, {})\n",
    "        if next_choices:\n",
    "            curr = random.choices(\n",
    "                population=list(next_choices.keys()),\n",
    "                weights=list(next_choices.values())\n",
    "            )[0]\n",
    "        else:\n",
    "            curr = random.randint(1, max_number)\n",
    "\n",
    "        while curr in draw:\n",
    "            curr = random.randint(1, max_number)\n",
    "        draw.append(curr)\n",
    "\n",
    "    return sorted(draw)\n",
    "\n",
    "# Build Markov models\n",
    "main_markov = build_markov_model(main_draws, 5)\n",
    "star_markov = build_markov_model(star_draws, 2)\n",
    "\n",
    "# Generate predictions\n",
    "predicted_draws = []\n",
    "for _ in range(5):\n",
    "    main = sample_markov_draw(main_markov, 5, 50)\n",
    "    stars = sample_markov_draw(star_markov, 2, 12)\n",
    "    predicted_draws.append({\n",
    "        \"Main Numbers\": main,\n",
    "        \"Lucky Stars\": stars\n",
    "    })\n",
    "\n",
    "# Output results\n",
    "# for i, draw in enumerate(predicted_draws, 1):\n",
    "#     print(f\"Draw {i}: Main Numbers = {draw['Main Numbers']}, Lucky Stars = {draw['Lucky Stars']}\")\n",
    "\n",
    "# Draw 1: Main Numbers = [1, np.int64(3), np.int64(18), np.int64(33), np.int64(36)], Lucky Stars = [7, np.int64(12)]\n",
    "# Draw 2: Main Numbers = [24, 30, np.int64(41), np.int64(44), np.int64(49)], Lucky Stars = [8, np.int64(12)]\n",
    "# Draw 3: Main Numbers = [18, np.int64(25), np.int64(37), 41, np.int64(42)], Lucky Stars = [6, np.int64(7)]\n",
    "# Draw 4: Main Numbers = [1, 21, 37, np.int64(42), np.int64(49)], Lucky Stars = [9, np.int64(12)]\n",
    "# Draw 5: Main Numbers = [21, np.int64(36), np.int64(37), 41, np.int64(46)], Lucky Stars = [7, np.int64(12)]\n",
    "\n",
    "# Output results with clean types\n",
    "for i, draw in enumerate(predicted_draws, 1):\n",
    "    main_clean = list(map(int, draw['Main Numbers']))\n",
    "    stars_clean = list(map(int, draw['Lucky Stars']))\n",
    "    print(f\"Draw {i}: Main Numbers = {main_clean}, Lucky Stars = {stars_clean}\")    \n"
   ]
  },
  {
   "cell_type": "markdown",
   "id": "c40cec21",
   "metadata": {},
   "source": [
    "Draw 1: Main Numbers = [20, 33, 35, 46, 49], Lucky Stars = [4, 12]\n",
    "Draw 2: Main Numbers = [22, 30, 41, 42, 49], Lucky Stars = [8, 10]\n",
    "Draw 3: Main Numbers = [20, 21, 29, 35, 49], Lucky Stars = [6, 12]\n",
    "Draw 4: Main Numbers = [16, 35, 41, 43, 48], Lucky Stars = [9, 12]\n",
    "Draw 5: Main Numbers = [15, 32, 38, 47, 48], Lucky Stars = [4, 5]"
   ]
  },
  {
   "cell_type": "markdown",
   "id": "6caf8a5c",
   "metadata": {},
   "source": [
    "Draw 1: Main Numbers = [24, 30, 39, 42, 45], Lucky Stars = [4, 5]\n",
    "Draw 2: Main Numbers = [6, 8, 28, 46, 50], Lucky Stars = [9, 12]\n",
    "Draw 3: Main Numbers = [8, 14, 29, 33, 50], Lucky Stars = [4, 10]\n",
    "Draw 4: Main Numbers = [20, 29, 35, 42, 47], Lucky Stars = [5, 7]\n",
    "Draw 5: Main Numbers = [6, 21, 33, 36, 43], Lucky Stars = [8, 11]"
   ]
  }
 ],
 "metadata": {
  "kernelspec": {
   "display_name": ".venv",
   "language": "python",
   "name": "python3"
  },
  "language_info": {
   "codemirror_mode": {
    "name": "ipython",
    "version": 3
   },
   "file_extension": ".py",
   "mimetype": "text/x-python",
   "name": "python",
   "nbconvert_exporter": "python",
   "pygments_lexer": "ipython3",
   "version": "3.12.9"
  }
 },
 "nbformat": 4,
 "nbformat_minor": 5
}
