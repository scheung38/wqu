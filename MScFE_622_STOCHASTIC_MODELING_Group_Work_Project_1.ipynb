{
  "cells": [
    {
      "cell_type": "markdown",
      "metadata": {
        "id": "view-in-github",
        "colab_type": "text"
      },
      "source": [
        "<a href=\"https://colab.research.google.com/github/scheung38/wqu/blob/main/MScFE_622_STOCHASTIC_MODELING_Group_Work_Project_1.ipynb\" target=\"_parent\"><img src=\"https://colab.research.google.com/assets/colab-badge.svg\" alt=\"Open In Colab\"/></a>"
      ]
    },
    {
      "cell_type": "markdown",
      "metadata": {
        "id": "mR0PxyqLMi_U"
      },
      "source": [
        "# Author: Min (Sebastian) Cheung (Team Member A)"
      ]
    },
    {
      "cell_type": "markdown",
      "metadata": {
        "id": "rfmFJyhNbwYg"
      },
      "source": [
        "## **STEP 1A**\n"
      ]
    },
    {
      "cell_type": "code",
      "execution_count": null,
      "metadata": {
        "colab": {
          "base_uri": "https://localhost:8080/",
          "height": 461
        },
        "collapsed": true,
        "id": "eVXK7_ekL9uy",
        "outputId": "c2839fb3-b480-4cd8-8990-8ca5724ea9c7"
      },
      "outputs": [
        {
          "output_type": "stream",
          "name": "stdout",
          "text": [
            "Requirement already satisfied: pandas in /usr/local/lib/python3.11/dist-packages (2.2.2)\n",
            "Requirement already satisfied: numpy in /usr/local/lib/python3.11/dist-packages (2.0.2)\n",
            "Requirement already satisfied: scipy in /usr/local/lib/python3.11/dist-packages (1.16.0)\n",
            "Requirement already satisfied: matplotlib in /usr/local/lib/python3.11/dist-packages (3.10.0)\n",
            "Collecting pathlib\n",
            "  Downloading pathlib-1.0.1-py3-none-any.whl.metadata (5.1 kB)\n",
            "Requirement already satisfied: python-dateutil>=2.8.2 in /usr/local/lib/python3.11/dist-packages (from pandas) (2.9.0.post0)\n",
            "Requirement already satisfied: pytz>=2020.1 in /usr/local/lib/python3.11/dist-packages (from pandas) (2025.2)\n",
            "Requirement already satisfied: tzdata>=2022.7 in /usr/local/lib/python3.11/dist-packages (from pandas) (2025.2)\n",
            "Requirement already satisfied: contourpy>=1.0.1 in /usr/local/lib/python3.11/dist-packages (from matplotlib) (1.3.2)\n",
            "Requirement already satisfied: cycler>=0.10 in /usr/local/lib/python3.11/dist-packages (from matplotlib) (0.12.1)\n",
            "Requirement already satisfied: fonttools>=4.22.0 in /usr/local/lib/python3.11/dist-packages (from matplotlib) (4.59.0)\n",
            "Requirement already satisfied: kiwisolver>=1.3.1 in /usr/local/lib/python3.11/dist-packages (from matplotlib) (1.4.8)\n",
            "Requirement already satisfied: packaging>=20.0 in /usr/local/lib/python3.11/dist-packages (from matplotlib) (25.0)\n",
            "Requirement already satisfied: pillow>=8 in /usr/local/lib/python3.11/dist-packages (from matplotlib) (11.3.0)\n",
            "Requirement already satisfied: pyparsing>=2.3.1 in /usr/local/lib/python3.11/dist-packages (from matplotlib) (3.2.3)\n",
            "Requirement already satisfied: six>=1.5 in /usr/local/lib/python3.11/dist-packages (from python-dateutil>=2.8.2->pandas) (1.17.0)\n",
            "Downloading pathlib-1.0.1-py3-none-any.whl (14 kB)\n",
            "Installing collected packages: pathlib\n",
            "Successfully installed pathlib-1.0.1\n"
          ]
        },
        {
          "output_type": "display_data",
          "data": {
            "application/vnd.colab-display-data+json": {
              "pip_warning": {
                "packages": [
                  "pathlib"
                ]
              },
              "id": "39461f27f4f74f228cc1fbc83a25bcc4"
            }
          },
          "metadata": {}
        }
      ],
      "source": [
        "%pip install pandas numpy scipy matplotlib pathlib"
      ]
    },
    {
      "cell_type": "code",
      "execution_count": null,
      "metadata": {
        "id": "gs-9o8QvB4lt"
      },
      "outputs": [],
      "source": [
        "import pandas as pd\n",
        "import numpy as np\n",
        "from scipy.integrate import quad\n",
        "from scipy.optimize import minimize, brute\n",
        "import matplotlib.pyplot as plt\n",
        "from pathlib import Path"
      ]
    },
    {
      "cell_type": "code",
      "execution_count": null,
      "metadata": {
        "colab": {
          "base_uri": "https://localhost:8080/"
        },
        "id": "hDqCtMamGNWT",
        "outputId": "bb4830e4-112a-4870-c7bc-207c63ae60b2"
      },
      "outputs": [
        {
          "output_type": "stream",
          "name": "stdout",
          "text": [
            "Drive already mounted at /content/drive; to attempt to forcibly remount, call drive.mount(\"/content/drive\", force_remount=True).\n"
          ]
        }
      ],
      "source": [
        "from google.colab import drive\n",
        "drive.mount('/content/drive')"
      ]
    },
    {
      "cell_type": "code",
      "execution_count": null,
      "metadata": {
        "id": "-X-WJ_XrMYUe"
      },
      "outputs": [],
      "source": [
        "def load_and_prepare_data(excel_path, trading_days):\n",
        "    \"\"\"Loads data from Excel, pivots it, and prepares it for calibration.\"\"\"\n",
        "    print(f\"Loading data from: {excel_path}\")\n",
        "    df = pd.read_excel(excel_path)\n",
        "\n",
        "    # Pivot the table to get Call and Put prices in separate columns\n",
        "    df = df.pivot_table(index=['Days to maturity', 'Strike'], columns='Type', values='Price').reset_index()\n",
        "    df.rename(columns={'C': 'Call', 'P': 'Put'}, inplace=True)\n",
        "    df.dropna(inplace=True)  # Remove rows with missing call or put prices\n",
        "\n",
        "    # Calculate time to maturity in years\n",
        "    df['T'] = df['Days to maturity'] / trading_days\n",
        "\n",
        "    min_maturity_days = df['Days to maturity'].min()\n",
        "    min_maturity_years = min_maturity_days / trading_days\n",
        "\n",
        "    print(f\"Shortest maturity available: {min_maturity_days:.0f} days. Using this for calibration.\")\n",
        "    filtered_df = df[df['T'] == min_maturity_years].copy()\n",
        "\n",
        "    # Calculate Mid_Price for the error function\n",
        "    filtered_df['Mid_Price'] = (filtered_df['Call'] + filtered_df['Put']) / 2\n",
        "    return filtered_df, min_maturity_years"
      ]
    },
    {
      "cell_type": "code",
      "execution_count": null,
      "metadata": {
        "id": "NZbcDaZt26KJ"
      },
      "outputs": [],
      "source": [
        "def H93_call_value(S0, K, T, r, kappa_v, theta_v, sigma_v, rho, v0):\n",
        "    \"\"\"Valuation of European call option in H93 model via Lewis (2001)\n",
        "\n",
        "    Parameter definition:\n",
        "    ==========\n",
        "    S0: float\n",
        "        initial stock/index level\n",
        "    K: float\n",
        "        strike price\n",
        "    T: float\n",
        "        time-to-maturity (for t=0)\n",
        "    r: float\n",
        "        constant risk-free short rate\n",
        "    kappa_v: float\n",
        "        mean-reversion factor\n",
        "    theta_v: float\n",
        "        long-run mean of variance\n",
        "    sigma_v: float\n",
        "        volatility of variance\n",
        "    rho: float\n",
        "        correlation between variance and stock/index level\n",
        "    v0: float\n",
        "        initial level of variance\n",
        "    Returns\n",
        "    =======\n",
        "    call_value: float\n",
        "        present value of European call option\n",
        "    \"\"\"\n",
        "    int_value = quad(\n",
        "        lambda u: H93_int_func(u, S0, K, T, r, kappa_v, theta_v, sigma_v, rho, v0),\n",
        "        0,\n",
        "        np.inf,\n",
        "        limit=250,\n",
        "    )[0]\n",
        "    call_value = max(0, S0 - np.exp(-r * T) * np.sqrt(S0 * K) / np.pi * int_value)\n",
        "    return call_value"
      ]
    },
    {
      "cell_type": "code",
      "execution_count": null,
      "metadata": {
        "id": "TTTwIeE327IM"
      },
      "outputs": [],
      "source": [
        "def H93_int_func(u, S0, K, T, r, kappa_v, theta_v, sigma_v, rho, v0):\n",
        "    \"\"\"\n",
        "    Fourier-based approach for Lewis (2001): Integration function.\n",
        "    \"\"\"\n",
        "    char_func_value = H93_char_func(\n",
        "        u - 1j * 0.5, T, r, kappa_v, theta_v, sigma_v, rho, v0\n",
        "    )\n",
        "    int_func_value = (\n",
        "        1 / (u**2 + 0.25) * (np.exp(1j * u * np.log(S0 / K)) * char_func_value).real\n",
        "    )\n",
        "    return int_func_value"
      ]
    },
    {
      "cell_type": "code",
      "execution_count": null,
      "metadata": {
        "id": "7VocoGq52-Qj"
      },
      "outputs": [],
      "source": [
        "def H93_char_func(u, T, r, kappa_v, theta_v, sigma_v, rho, v0):\n",
        "    \"\"\"Valuation of European call option in H93 model via Lewis (2001)\n",
        "    Fourier-based approach: characteristic function.\n",
        "    Parameter definitions see function BCC_call_value.\"\"\"\n",
        "    c1 = kappa_v * theta_v\n",
        "    c2 = -np.sqrt(\n",
        "        (rho * sigma_v * u * 1j - kappa_v) ** 2 - sigma_v**2 * (-u * 1j - u**2)\n",
        "    )\n",
        "    c3 = (kappa_v - rho * sigma_v * u * 1j + c2) / (\n",
        "        kappa_v - rho * sigma_v * u * 1j - c2\n",
        "    )\n",
        "    H1 = r * u * 1j * T + (c1 / sigma_v**2) * (\n",
        "        (kappa_v - rho * sigma_v * u * 1j + c2) * T\n",
        "        - 2 * np.log((1 - c3 * np.exp(c2 * T)) / (1 - c3))\n",
        "    )\n",
        "    H2 = (\n",
        "        (kappa_v - rho * sigma_v * u * 1j + c2)\n",
        "        / sigma_v**2\n",
        "        * ((1 - np.exp(c2 * T)) / (1 - c3 * np.exp(c2 * T)))\n",
        "    )\n",
        "    char_func_value = np.exp(H1 + H2 * v0)\n",
        "    return char_func_value"
      ]
    },
    {
      "cell_type": "code",
      "execution_count": null,
      "metadata": {
        "id": "QthKWL4LNRZN"
      },
      "outputs": [],
      "source": [
        "def calibration_objective(params, data, S0, r):\n",
        "    \"\"\"Objective function to minimize (MSE).\"\"\"\n",
        "    kappa, theta, sigma, rho, v0 = params\n",
        "\n",
        "    # Impose Feller condition and parameter bounds\n",
        "    if 2 * kappa * theta < sigma**2 or not (0 < kappa < 20 and 0 < theta < 1 and 0 < sigma < 2 and -1 < rho < 0 and 0 < v0 < 1):\n",
        "        return np.inf\n",
        "\n",
        "    model_prices = []\n",
        "    for _, row in data.iterrows():\n",
        "        K = row['Strike']\n",
        "        T = row['T']\n",
        "\n",
        "        # call_price = heston_price_lewis(S0, K, T, r, kappa, theta, sigma, rho, v0)\n",
        "        call_price = H93_call_value(S0, K, T, r, kappa, theta, sigma, rho, v0)\n",
        "\n",
        "        # If pricing fails, return a large error\n",
        "        if call_price == np.inf:\n",
        "            return np.inf\n",
        "\n",
        "        # Use the market price of the option that is closer to the money\n",
        "        if row['Put'] > row['Call']:\n",
        "            # Use Put-Call Parity for the model put price\n",
        "            put_price = call_price - S0 + K * np.exp(-r * T)\n",
        "            model_prices.append(put_price)\n",
        "        else:\n",
        "            model_prices.append(call_price)\n",
        "\n",
        "    # Use the corresponding market prices for the MSE calculation\n",
        "    market_prices = np.where(data['Put'] > data['Call'], data['Put'], data['Call'])\n",
        "\n",
        "    mse = np.mean((market_prices - np.array(model_prices))**2)\n",
        "\n",
        "    # Optional: print progress\n",
        "    # print(f\"Params: [k:{kappa:.2f}, t:{theta:.2f}, s:{sigma:.2f}, r:{rho:.2f}, v:{v0:.2f}] | MSE: {mse:.4f}\")\n",
        "    return mse"
      ]
    },
    {
      "cell_type": "code",
      "execution_count": null,
      "metadata": {
        "colab": {
          "base_uri": "https://localhost:8080/"
        },
        "id": "knotGf_WH_Px",
        "outputId": "3f2fece0-deb8-4d82-d9f4-234ab6eebbf9"
      },
      "outputs": [
        {
          "output_type": "stream",
          "name": "stdout",
          "text": [
            "'drive/MyDrive/Colab_Data/SM_GWP_1_M3/MScFE 622_Stochastic Modeling_GWP1_Option data.xlsx'\n"
          ]
        }
      ],
      "source": [
        "    !ls 'drive/MyDrive/Colab_Data/SM_GWP_1_M3/MScFE 622_Stochastic Modeling_GWP1_Option data.xlsx'\n",
        "\n"
      ]
    },
    {
      "cell_type": "code",
      "execution_count": null,
      "metadata": {
        "colab": {
          "base_uri": "https://localhost:8080/",
          "height": 1018
        },
        "id": "mxL0BcFBNcLm",
        "outputId": "c807b264-05dc-4d94-ce96-2ed26fe3b33c"
      },
      "outputs": [
        {
          "output_type": "stream",
          "name": "stdout",
          "text": [
            "Loading data from: drive/MyDrive/Colab_Data/SM_GWP_1_M3/MScFE 622_Stochastic Modeling_GWP1_Option data.xlsx\n",
            "Shortest maturity available: 15 days. Using this for calibration.\n",
            "Loaded data for maturity: 0 days\n",
            "option_data: Type  Days to maturity  Strike   Call   Put     T  Mid_Price\n",
            "0                   15   227.5  10.52  4.32  0.06      7.420\n",
            "1                   15   230.0  10.05  5.20  0.06      7.625\n",
            "2                   15   232.5   7.75  6.45  0.06      7.100\n",
            "3                   15   235.0   6.01  7.56  0.06      6.785\n",
            "4                   15   237.5   4.75  8.78  0.06      6.765\n",
            "\n",
            "--- Stage 1: Starting Brute-Force Global Search ---\n",
            "--- Brute-Force Search Complete ---\n",
            "Best parameters from brute-force search: [ 7.5   0.04  0.15 -0.75  0.03]\n",
            "\n",
            "--- Stage 2: Starting Local Refinement (Nelder-Mead) ---\n",
            "Optimization terminated successfully.\n",
            "         Current function value: 0.354275\n",
            "         Iterations: 701\n",
            "         Function evaluations: 1260\n",
            "\n",
            "--- Calibration Complete ---\n",
            "Calibrated Heston Parameters:\n",
            "  kappa (mean reversion speed): 20.0000\n",
            "  theta (long-term variance):   0.0520\n",
            "  sigma (vol of vol):           1.1458\n",
            "  rho (correlation):            -1.0000\n",
            "  v0 (initial variance):        0.1428\n",
            "Final MSE: 0.354275\n",
            "\n",
            "Plot of the calibration fit saved to: calibration_fit.png\n"
          ]
        },
        {
          "output_type": "display_data",
          "data": {
            "text/plain": [
              "<Figure size 1200x700 with 1 Axes>"
            ],
            "image/png": "[encoded data removed]"
          },
          "metadata": {}
        }
      ],
      "source": [
        "    S0 = 232.90\n",
        "    R = 0.015\n",
        "    TRADING_DAYS = 250\n",
        "\n",
        "    # --- Data Loading ---\n",
        "    # Get the directory where the script is located and build the path to the data file\n",
        "    # script_dir = Path(__file__).parent\n",
        "    script_dir = 'drive/MyDrive/Colab_Data/SM_GWP_1_M3/MScFE 622_Stochastic Modeling_GWP1_Option data.xlsx'\n",
        "    EXCEL_PATH = script_dir\n",
        "    option_data, maturity = load_and_prepare_data(EXCEL_PATH, TRADING_DAYS)\n",
        "\n",
        "    print(f\"Loaded data for maturity: {maturity:.0f} days\")\n",
        "    print(f\"option_data: {option_data}\")\n",
        "    # --- Calibration ---\n",
        "    # Stage 1: Brute-force global search to find a good starting point\n",
        "    print(\"\\n--- Stage 1: Starting Brute-Force Global Search ---\")\n",
        "    # Define parameter ranges: (kappa, theta, sigma, rho, v0)\n",
        "\n",
        "    ranges = (\n",
        "        (2.5, 10.6, 5.0),  # kappa_v\n",
        "        (0.01, 0.041, 0.01),  # theta_v\n",
        "        (0.05, 0.251, 0.1),  # sigma_v\n",
        "        (-0.75, 0.01, 0.25),  # rho\n",
        "        (0.01, 0.031, 0.01),\n",
        "    )\n",
        "\n",
        "    initial_params_from_brute = brute(\n",
        "        calibration_objective,\n",
        "        ranges,\n",
        "        args=(option_data, S0, R),\n",
        "        finish=None\n",
        "    )\n",
        "\n",
        "    print(\"--- Brute-Force Search Complete ---\")\n",
        "    print(f\"Best parameters from brute-force search: {initial_params_from_brute}\")\n",
        "\n",
        "    # Stage 2: Local refinement using the result from Stage 1\n",
        "    print(\"\\n--- Stage 2: Starting Local Refinement (Nelder-Mead) ---\")\n",
        "    result = minimize(\n",
        "        calibration_objective,\n",
        "        initial_params_from_brute,\n",
        "        args=(option_data, S0, R),\n",
        "        method='Nelder-Mead',\n",
        "        options={'maxiter': 2000, 'disp': True, 'adaptive': True},\n",
        "        tol=1e-6\n",
        "    )\n",
        "\n",
        "    calibrated_params = result.x\n",
        "    final_mse = result.fun\n",
        "\n",
        "    print(\"\\n--- Calibration Complete ---\")\n",
        "    print(\"Calibrated Heston Parameters:\")\n",
        "    print(f\"  kappa (mean reversion speed): {calibrated_params[0]:.4f}\")\n",
        "    print(f\"  theta (long-term variance):   {calibrated_params[1]:.4f}\")\n",
        "    print(f\"  sigma (vol of vol):           {calibrated_params[2]:.4f}\")\n",
        "    print(f\"  rho (correlation):            {calibrated_params[3]:.4f}\")\n",
        "    print(f\"  v0 (initial variance):        {calibrated_params[4]:.4f}\")\n",
        "    print(f\"Final MSE: {final_mse:.6f}\")\n",
        "\n",
        "    # --- Results Visualization ---\n",
        "    final_model_prices = []\n",
        "    for i, row in option_data.iterrows():\n",
        "\n",
        "        call_price = H93_call_value(S0, row['Strike'], row['T'], R, *calibrated_params)\n",
        "\n",
        "        if row['Put'] > row['Call']:\n",
        "            put_price = call_price - S0 + row['Strike'] * np.exp(-R * row['T'])\n",
        "            final_model_prices.append(put_price)\n",
        "        else:\n",
        "            final_model_prices.append(call_price)\n",
        "\n",
        "    option_data['Calibrated_Price'] = final_model_prices\n",
        "\n",
        "    plt.figure(figsize=(12, 7))\n",
        "    plt.scatter(option_data['Strike'], option_data['Call'], label='Market Call Prices', marker='x', color='blue')\n",
        "    plt.scatter(option_data['Strike'], option_data['Put'], label='Market Put Prices', marker='.', color='green')\n",
        "\n",
        "  # Calculate complete model curves for all strikes\n",
        "    model_call_prices = []\n",
        "    model_put_prices = []\n",
        "\n",
        "    for _, row in option_data.iterrows():\n",
        "        call_price = H93_call_value(S0, row['Strike'], row['T'], R, *calibrated_params)\n",
        "        put_price = call_price - S0 + row['Strike'] * np.exp(-R * row['T'])\n",
        "        model_call_prices.append(call_price)\n",
        "        model_put_prices.append(put_price)\n",
        "\n",
        "    # Plot complete model curves\n",
        "    plt.plot(option_data['Strike'], model_call_prices, 'r--', label='Heston Model (Calls)', linewidth=2)\n",
        "    plt.plot(option_data['Strike'], model_put_prices, 'r-', label='Heston Model (Puts)', linewidth=2)\n",
        "\n",
        "    plt.title(f'Heston Model Calibration vs. Market Prices (Maturity: {maturity*TRADING_DAYS:.0f} days)')\n",
        "    plt.xlabel('Strike Price')\n",
        "    plt.ylabel('Option Price')\n",
        "    plt.legend()\n",
        "    plt.grid(True)\n",
        "    plot_path = 'calibration_fit.png'\n",
        "    plt.savefig(plot_path)\n",
        "    print(f\"\\nPlot of the calibration fit saved to: {plot_path}\")\n",
        "\n"
      ]
    },
    {
      "cell_type": "code",
      "execution_count": null,
      "metadata": {
        "id": "IqRTFI58_lXw",
        "colab": {
          "base_uri": "https://localhost:8080/",
          "height": 35
        },
        "collapsed": true,
        "outputId": "f4b139a0-9b57-4452-d521-03ab7d39f18a"
      },
      "outputs": [
        {
          "output_type": "execute_result",
          "data": {
            "text/plain": [
              "'Empty Space Separation'"
            ],
            "application/vnd.google.colaboratory.intrinsic+json": {
              "type": "string"
            }
          },
          "metadata": {},
          "execution_count": 136
        }
      ],
      "source": [
        "\"Empty Space Separation\""
      ]
    },
    {
      "cell_type": "markdown",
      "metadata": {
        "id": "4njFdT_b514k"
      },
      "source": [
        "## **STEP 1.B**"
      ]
    },
    {
      "cell_type": "code",
      "execution_count": null,
      "metadata": {
        "id": "8RicPFjF6Ear"
      },
      "outputs": [],
      "source": [
        "import numpy as np\n",
        "from numpy.fft import fft\n",
        "from scipy import stats\n",
        "from scipy.integrate import quad\n",
        "import pandas as pd\n",
        "from scipy.optimize import brute, fmin\n",
        "import matplotlib.pyplot as plt\n",
        "import math\n",
        "from scipy.interpolate import splev, splrep"
      ]
    },
    {
      "cell_type": "code",
      "execution_count": null,
      "metadata": {
        "id": "X1vsWSk78VEu"
      },
      "outputs": [],
      "source": [
        "# Heston (1993) characteristic function\n",
        "def H93_char_func(u, T, r, kappa_v, theta_v, sigma_v, rho, v0):\n",
        "    \"\"\"Valuation of European call option in H93 model\n",
        "    Fourier-based approach: characteristic function.\n",
        "    Parameter definitions see function BCC_call_value.\"\"\"\n",
        "    c1 = kappa_v * theta_v\n",
        "    c2 = -np.sqrt(\n",
        "        (rho * sigma_v * u * 1j - kappa_v) ** 2 - sigma_v**2 * (-u * 1j - u**2)\n",
        "    )\n",
        "    c3 = (kappa_v - rho * sigma_v * u * 1j + c2) / (\n",
        "        kappa_v - rho * sigma_v * u * 1j - c2\n",
        "    )\n",
        "    H1 = r * u * 1j * T + (c1 / sigma_v**2) * (\n",
        "        (kappa_v - rho * sigma_v * u * 1j + c2) * T\n",
        "        - 2 * np.log((1 - c3 * np.exp(c2 * T)) / (1 - c3))\n",
        "    )\n",
        "    H2 = (\n",
        "        (kappa_v - rho * sigma_v * u * 1j + c2)\n",
        "        / sigma_v**2\n",
        "        * ((1 - np.exp(c2 * T)) / (1 - c3 * np.exp(c2 * T)))\n",
        "    )\n",
        "    char_func_value = np.exp(H1 + H2 * v0)\n",
        "    return char_func_value"
      ]
    },
    {
      "cell_type": "code",
      "execution_count": null,
      "metadata": {
        "id": "Jp7eOfcs54xV"
      },
      "outputs": [],
      "source": [
        "#FFT Approach - Carr and Madan (1999)\n",
        "\n",
        "def H93_Call_FFT(S0, K, T, r, kappa_v, theta_v, sigma_v, rho, v0):\n",
        "    \"\"\"\n",
        "    Call option price in Bates (1996) under FFT\n",
        "    \"\"\"\n",
        "\n",
        "    k = np.log(K / S0)\n",
        "    g = 1  # Factor to increase accuracy\n",
        "    N = g * 4096\n",
        "    eps = (g * 150) ** -1\n",
        "    eta = 2 * np.pi / (N * eps)\n",
        "    b = 0.5 * N * eps - k\n",
        "    u = np.arange(1, N + 1, 1)\n",
        "    vo = eta * (u - 1)\n",
        "\n",
        "    # Modifications to ensure integrability\n",
        "    if S0 >= 0.95 * K:  # ITM Case\n",
        "        alpha = 1.5\n",
        "        v = vo - (alpha + 1) * 1j\n",
        "        modcharFunc = np.exp(-r * T) * (\n",
        "            H93_char_func(v, T, r, kappa_v, theta_v, sigma_v, rho, v0)\n",
        "            / (alpha**2 + alpha - vo**2 + 1j * (2 * alpha + 1) * vo)\n",
        "        )\n",
        "\n",
        "    else:\n",
        "        alpha = 1.1\n",
        "        v = (vo - 1j * alpha) - 1j\n",
        "        modcharFunc1 = np.exp(-r * T) * (\n",
        "            1 / (1 + 1j * (vo - 1j * alpha))\n",
        "            - np.exp(r * T) / (1j * (vo - 1j * alpha))\n",
        "            - H93_char_func(\n",
        "                v, T, r, kappa_v, theta_v, sigma_v, rho, v0\n",
        "            )\n",
        "            / ((vo - 1j * alpha) ** 2 - 1j * (vo - 1j * alpha))\n",
        "        )\n",
        "\n",
        "        v = (vo + 1j * alpha) - 1j\n",
        "\n",
        "        modcharFunc2 = np.exp(-r * T) * (\n",
        "            1 / (1 + 1j * (vo + 1j * alpha))\n",
        "            - np.exp(r * T) / (1j * (vo + 1j * alpha))\n",
        "            - H93_char_func(\n",
        "                v, T, r, kappa_v, theta_v, sigma_v, rho, v0\n",
        "            )\n",
        "            / ((vo + 1j * alpha) ** 2 - 1j * (vo + 1j * alpha))\n",
        "        )\n",
        "\n",
        "    # Numerical FFT Routine\n",
        "    delt = np.zeros(N)\n",
        "    delt[0] = 1\n",
        "    j = np.arange(1, N + 1, 1)\n",
        "    SimpsonW = (3 + (-1) ** j - delt) / 3\n",
        "    if S0 >= 0.95 * K:\n",
        "        FFTFunc = np.exp(1j * b * vo) * modcharFunc * eta * SimpsonW\n",
        "        payoff = (np.fft.fft(FFTFunc)).real\n",
        "        CallValueM = np.exp(-alpha * k) / np.pi * payoff\n",
        "    else:\n",
        "        FFTFunc = (\n",
        "            np.exp(1j * b * vo) * (modcharFunc1 - modcharFunc2) * 0.5 * eta * SimpsonW\n",
        "        )\n",
        "        payoff = (np.fft.fft(FFTFunc)).real\n",
        "        CallValueM = payoff / (np.sinh(alpha * k) * np.pi)\n",
        "\n",
        "    pos = int((k + b) / eps)\n",
        "    CallValue = CallValueM[pos] * S0\n",
        "\n",
        "    return CallValue"
      ]
    },
    {
      "cell_type": "code",
      "execution_count": null,
      "metadata": {
        "id": "i43PfWCl6Giu"
      },
      "outputs": [],
      "source": [
        "def H93_FFT_calibration_full():\n",
        "    \"\"\"Calibrates Heston (1993) stochastic volatility model to market quotes.\"\"\"\n",
        "    # First run with brute force\n",
        "    # (scan sensible regions, for faster convergence)\n",
        "    p0 = brute(\n",
        "        H93_FFT_error_function,\n",
        "        (\n",
        "            (2.5, 10.6, 5.0),  # kappa_v\n",
        "            (0.01, 0.041, 0.01),  # theta_v\n",
        "            (0.05, 0.251, 0.1),  # sigma_v\n",
        "            (-0.75, 0.01, 0.25),  # rho\n",
        "            (0.01, 0.031, 0.01),\n",
        "        ),  # v0\n",
        "        finish=None,\n",
        "    )\n",
        "\n",
        "    # Second run with local, convex minimization\n",
        "    # (we dig deeper where promising results)\n",
        "    opt = fmin(\n",
        "        H93_FFT_error_function, p0, xtol=0.000001, ftol=0.000001, maxiter=750, maxfun=900\n",
        "    )\n",
        "\n",
        "    min_MSE = H93_FFT_error_function(opt)\n",
        "\n",
        "    return opt, min_MSE"
      ]
    },
    {
      "cell_type": "code",
      "execution_count": null,
      "metadata": {
        "id": "yrXz0ply6TKc"
      },
      "outputs": [],
      "source": [
        "#Calibration of Heston (1993) Model\n",
        "i = 0\n",
        "min_MSE = 500\n",
        "def H93_FFT_error_function(p0):\n",
        "\n",
        "    global i, min_MSE\n",
        "    kappa_v, theta_v, sigma_v, rho, v0 = p0\n",
        "    if kappa_v < 0.0 or theta_v < 0.005 or sigma_v < 0.0 or rho < -1.0 or rho > 1.0:\n",
        "        return 500.0\n",
        "    if 2 * kappa_v * theta_v < sigma_v**2:\n",
        "        return 500.0\n",
        "    se = []\n",
        "    for row, option in options.iterrows():\n",
        "        model_value = H93_Call_FFT(\n",
        "            S0,\n",
        "            option[\"Strike\"],\n",
        "            option[\"T\"],\n",
        "            option[\"r\"],\n",
        "            kappa_v,\n",
        "            theta_v,\n",
        "            sigma_v,\n",
        "            rho,\n",
        "            v0,\n",
        "        )\n",
        "        se.append((model_value - option[\"Call\"]) ** 2)\n",
        "    MSE = sum(se) / len(se)\n",
        "    min_MSE = min(min_MSE, MSE)\n",
        "    return MSE"
      ]
    },
    {
      "cell_type": "code",
      "execution_count": null,
      "metadata": {
        "id": "qRhT5egTH2hz"
      },
      "outputs": [],
      "source": [
        "S0 = 232.90\n",
        "r = 0.015\n",
        "trading_days = 250\n",
        "maturity = 15\n",
        "\n",
        "script_dir = 'drive/MyDrive/Colab_Data/SM_GWP_1_M3/MScFE 622_Stochastic Modeling_GWP1_Option data.xlsx'\n",
        "EXCEL_PATH = script_dir\n",
        "\n",
        "original_option_data = pd.read_excel(EXCEL_PATH)"
      ]
    },
    {
      "cell_type": "code",
      "execution_count": null,
      "metadata": {
        "id": "Ugc-NdQNJ_sK"
      },
      "outputs": [],
      "source": [
        "#create data for calibarion\n",
        "original_option_data = original_option_data[original_option_data['Days to maturity'] == maturity].copy()\n",
        "original_option_data['T'] = original_option_data['Days to maturity'] / trading_days\n",
        "\n",
        "\n",
        "option_data = original_option_data.pivot(index='Strike', columns='Type', values='Price').reset_index()\n",
        "option_data = option_data.rename(columns={'C': 'Call', 'P': 'Put'})\n",
        "\n",
        "option_data['Days to maturity'] = original_option_data['Days to maturity']\n",
        "option_data['T'] = option_data['Days to maturity'] / trading_days"
      ]
    },
    {
      "cell_type": "code",
      "execution_count": null,
      "metadata": {
        "id": "FojE_h9G7477"
      },
      "outputs": [],
      "source": [
        "tol = 0.02  # Tolerance level to select ATM options (percent around ITM/OTM options)\n",
        "options = option_data[(np.abs(option_data[\"Strike\"] - S0) / S0) < tol]"
      ]
    },
    {
      "cell_type": "code",
      "execution_count": null,
      "metadata": {
        "id": "jNj2yB6J76x-",
        "colab": {
          "base_uri": "https://localhost:8080/"
        },
        "outputId": "53424eb0-513e-46f8-ec79-7df329bea0c7"
      },
      "outputs": [
        {
          "output_type": "stream",
          "name": "stdout",
          "text": [
            "Type  Strike   Call   Put  Days to maturity     T     r\n",
            "1      230.0  10.05  5.20                15  0.06  0.02\n",
            "2      232.5   7.75  6.45                15  0.06  0.02\n",
            "3      235.0   6.01  7.56                15  0.06  0.02\n",
            "4      237.5   4.75  8.78                15  0.06  0.02\n"
          ]
        },
        {
          "output_type": "stream",
          "name": "stderr",
          "text": [
            "/tmp/ipython-input-145-2398512821.py:5: SettingWithCopyWarning: \n",
            "A value is trying to be set on a copy of a slice from a DataFrame.\n",
            "Try using .loc[row_indexer,col_indexer] = value instead\n",
            "\n",
            "See the caveats in the documentation: https://pandas.pydata.org/pandas-docs/stable/user_guide/indexing.html#returning-a-view-versus-a-copy\n",
            "  options.loc[row, \"r\"] = 0.02\n"
          ]
        }
      ],
      "source": [
        "# Adding Time-to-Maturity and constant short-rates\n",
        "\n",
        "for row, option in options.iterrows():\n",
        "    T = (maturity / trading_days)\n",
        "    options.loc[row, \"r\"] = 0.02\n",
        "\n",
        "print(options)"
      ]
    },
    {
      "cell_type": "code",
      "execution_count": null,
      "metadata": {
        "id": "pibwzCM678QC",
        "colab": {
          "base_uri": "https://localhost:8080/"
        },
        "outputId": "934e619c-62df-4c11-bee3-b8f2970ff473"
      },
      "outputs": [
        {
          "output_type": "stream",
          "name": "stdout",
          "text": [
            "[ 2.74073058e+01  5.00000015e-03  1.54275090e-01 -2.90677699e-02\n",
            "  2.06208137e-01]\n",
            "0.46367779471793713\n"
          ]
        },
        {
          "output_type": "stream",
          "name": "stderr",
          "text": [
            "/tmp/ipython-input-140-2769426041.py:19: RuntimeWarning: Maximum number of function evaluations has been exceeded.\n",
            "  opt = fmin(\n"
          ]
        }
      ],
      "source": [
        "i = 0\n",
        "min_MSE = 500\n",
        "\n",
        "#kappa_v, theta_v, sigma_v, rho, v\n",
        "FFT_values, MSE_v=H93_FFT_calibration_full()\n",
        "print(FFT_values)\n",
        "print(MSE_v)"
      ]
    },
    {
      "cell_type": "code",
      "execution_count": null,
      "metadata": {
        "id": "6891M7dQ7-Gt",
        "colab": {
          "base_uri": "https://localhost:8080/"
        },
        "outputId": "667d7470-1c22-416e-92dc-5c40e3fecb99"
      },
      "outputs": [
        {
          "output_type": "stream",
          "name": "stdout",
          "text": [
            "  kappa: 27.4073\n",
            "  theta: 0.0050\n",
            "  sigma: 0.1543\n",
            "  rho:   -0.0291\n",
            "  v0:    0.2062\n",
            "  MSE:   0.4637\n"
          ]
        }
      ],
      "source": [
        "print(f\"  2.\tLocal minimization    {FFT_values[4]:.4f}\")\n",
        "print(f\"  MSE:   {MSE_v:.4f}\")"
      ]
    },
    {
      "cell_type": "code",
      "source": [
        "# --- Results Visualization ---\n",
        "final_model_prices = []\n",
        "for i, row in options.iterrows():\n",
        "\n",
        "    call_price = H93_Call_FFT(S0, row['Strike'], row['T'], r, *FFT_values)\n",
        "\n",
        "    if row['Put'] > row['Call']:\n",
        "        put_price = call_price - S0 + row['Strike'] * np.exp(-r * row['T'])\n",
        "        final_model_prices.append(put_price)\n",
        "    else:\n",
        "        final_model_prices.append(call_price)\n",
        "\n",
        "options['Calibrated_Price'] = final_model_prices\n",
        "\n",
        "plt.figure(figsize=(12, 7))\n",
        "plt.scatter(options['Strike'], options['Call'], label='Market Call Prices', marker='x', color='blue')\n",
        "plt.scatter(options['Strike'], options['Put'], label='Market Put Prices', marker='.', color='green')\n",
        "\n",
        "# Calculate complete model curves for all strikes\n",
        "model_call_price = []\n",
        "model_put_price = []\n",
        "\n",
        "for _, row in options.iterrows():\n",
        "    call_price = H93_Call_FFT(S0, row['Strike'], row['T'], r, *FFT_values)\n",
        "    put_price = call_price - S0 + row['Strike'] * np.exp(-r * row['T'])\n",
        "    model_call_price.append(call_price)\n",
        "    model_put_price.append(put_price)\n",
        "\n",
        "\n",
        "# Plot complete model curves\n",
        "plt.plot(options['Strike'], model_call_price, 'r--', label='Heston Model (C)', linewidth=2)\n",
        "plt.plot(options['Strike'], model_put_price, 'r-', label='Heston Model (P)', linewidth=2)\n",
        "\n",
        "plt.title(f'Heston (Carr-Madan) Model Calibration vs. Market Prices (Maturity: {maturity:.0f} days)')\n",
        "plt.xlabel('Strike Price')\n",
        "plt.ylabel('Option Price')\n",
        "plt.legend()\n",
        "plt.grid(True)\n",
        "plot_path = 'calibration_fit.png'\n",
        "plt.savefig(plot_path)\n",
        "print(f\"\\nPlot of the calibration fit saved to: {plot_path}\")"
      ],
      "metadata": {
        "colab": {
          "base_uri": "https://localhost:8080/",
          "height": 659
        },
        "id": "3diacnfMXnO1",
        "outputId": "4873887d-2f0f-4f2b-e64b-b374ea20e5ad"
      },
      "execution_count": null,
      "outputs": [
        {
          "output_type": "stream",
          "name": "stderr",
          "text": [
            "/tmp/ipython-input-148-3766154934.py:13: SettingWithCopyWarning: \n",
            "A value is trying to be set on a copy of a slice from a DataFrame.\n",
            "Try using .loc[row_indexer,col_indexer] = value instead\n",
            "\n",
            "See the caveats in the documentation: https://pandas.pydata.org/pandas-docs/stable/user_guide/indexing.html#returning-a-view-versus-a-copy\n",
            "  options['Calibrated_Price'] = final_model_prices\n"
          ]
        },
        {
          "output_type": "stream",
          "name": "stdout",
          "text": [
            "\n",
            "Plot of the calibration fit saved to: calibration_fit.png\n"
          ]
        },
        {
          "output_type": "display_data",
          "data": {
            "text/plain": [
              "<Figure size 1200x700 with 1 Axes>"
            ],
            "image/png": "[encoded data removed]"
          },
          "metadata": {}
        }
      ]
    },
    {
      "cell_type": "markdown",
      "metadata": {
        "id": "867MDeuPjZRv"
      },
      "source": [
        "## Step 1, Task c: Pricing an ATM Asian Call Option with 20 Days Maturity"
      ]
    },
    {
      "cell_type": "markdown",
      "metadata": {
        "id": "r1rB3oPQjabm"
      },
      "source": [
        "**Part 1: Pricing an OTC Asian Option (Step 1)**\n",
        "\n",
        "**Objective**\n",
        "\n",
        "The primary goal is to determine the fair price for a custom At-The-Money (ATM) Asian call option with a 20-day maturity for a client. The pricing will be conducted using the Heston model parameters calibrated in the previous step and a Monte Carlo simulation approach in a risk-neutral setting. A 4% fee will be applied to the fair value to determine the final price for the client."
      ]
    },
    {
      "cell_type": "markdown",
      "metadata": {
        "id": "Z_sMqdkFbFtC"
      },
      "source": [
        "**Methodology & Parameters**\n",
        "\n",
        "We will simulate the path of the underlying stock, SM, using a discretized Heston model. The payoff of the Asian option depends on the average price of the stock over the life of the option, defined as\n",
        "\n",
        "$max(Avg(S_t)−K,0)$.\n",
        "\n",
        "\n",
        "Underlying (SM) Price $(S_0): $232.90$\n",
        "\n",
        "\n",
        "Strike Price (K): $\\$232.90 (ATM)$\n",
        "\n",
        "\n",
        "Maturity (T): 20 trading days (20/250=0.08 years)\n",
        "\n",
        "\n",
        "Risk-Free Rate (r): 1.50%\n",
        "\n",
        "Heston Parameters (from Step 1 Calibration):\n",
        "\n",
        "$v_0= 0.1428$ (Initial Variance)\n",
        "\n",
        "$kappa= 20.00$ (Mean-Reversion Speed)\n",
        "\n",
        "$theta= 0.0520$ (Long-Run Variance)\n",
        "\n",
        "$sigma= 1.1458$ (Volatility of Variance)\n",
        "\n",
        "$rho= −1. 00$ (Correlation)"
      ]
    },
    {
      "cell_type": "code",
      "execution_count": null,
      "metadata": {
        "id": "V9U6UTWjbJth",
        "colab": {
          "base_uri": "https://localhost:8080/",
          "height": 552
        },
        "outputId": "dbaf366f-e105-4b2e-fe60-0083e6f0bc1c"
      },
      "outputs": [
        {
          "output_type": "display_data",
          "data": {
            "text/plain": [
              "<Figure size 1000x600 with 1 Axes>"
            ],
            "image/png": "[encoded data removed]"
          },
          "metadata": {}
        },
        {
          "output_type": "stream",
          "name": "stdout",
          "text": [
            "Asian Call Option Fair Price: $5.16\n",
            "Final Price with 4% Fee: $5.36\n"
          ]
        }
      ],
      "source": [
        "# Load option data\n",
        "data = '\"MScFE 622_Stochastic Modeling_GWP1_Option data.xlsx\"'\n",
        "df = data\n",
        "\n",
        "# Calibrated  carr-Maddan(199) parameters (assumed from Team Member B's calibration for 15-day maturity)\n",
        "\n",
        "kappa_v = 20.00     # Mean reversion speed\n",
        "theta_v = 0.0520   # Long-term variance\n",
        "sigma_v = 1.1458    # Volatility of variance\n",
        "rho = -1.000       # Correlation\n",
        "v0 = 0.1428         # Initial variance\n",
        "r = 0.015      # Risk-free rate\n",
        "S0 = 232.90    # Current stock price\n",
        "K = S0         # ATM strike\n",
        "T = 20 / 250   # 20 days maturity\n",
        "N = 20         # Daily steps\n",
        "M = 100000     # Number of simulations\n",
        "\n",
        "# Simulate Heston model paths\n",
        "def heston_paths(S0, v0, kappa_v, theta_v, sigma_v, rho, r, T, N, M):\n",
        "    dt = T / N\n",
        "    S = np.zeros((M, N + 1))\n",
        "    v = np.zeros((M, N + 1))\n",
        "    S[:, 0] = S0\n",
        "    v[:, 0] = v0\n",
        "    for t in range(1, N + 1):\n",
        "        Z1 = np.random.normal(size=M)\n",
        "        Z2 = rho * Z1 + np.sqrt(1 - rho**2) * np.random.normal(size=M)\n",
        "        v[:, t] = np.maximum(v[:, t-1] + kappa_v * (theta_v - v[:, t-1]) * dt + sigma_v * np.sqrt(v[:, t-1] * dt) * Z1, 0)\n",
        "        S[:, t] = S[:, t-1] * np.exp((r - 0.5 * v[:, t-1]) * dt + np.sqrt(v[:, t-1] * dt) * Z2)\n",
        "    return S\n",
        "\n",
        "# Price Asian call option\n",
        "np.random.seed(42)\n",
        "paths = heston_paths(S0, v0, kappa_v, theta_v, sigma_v, rho, r, T, N, M)\n",
        "avg_prices = np.mean(paths, axis=1)\n",
        "payoffs = np.maximum(avg_prices - K, 0)\n",
        "asian_price = np.exp(-r * T) * np.mean(payoffs)\n",
        "final_price = asian_price * 1.04  # 4% fee\n",
        "\n",
        "# Visualize payoff distribution\n",
        "plt.figure(figsize=(10, 6))\n",
        "plt.hist(payoffs, bins=50, density=True, alpha=0.7, color='blue')\n",
        "plt.title('Distribution of Asian Call Option Payoffs (20 Days Maturity)')\n",
        "plt.xlabel('Payoff ($)')\n",
        "plt.ylabel('Density')\n",
        "plt.grid(True)\n",
        "plt.show()\n",
        "\n",
        "print(f'Asian Call Option Fair Price: ${asian_price:.2f}')\n",
        "print(f'Final Price with 4% Fee: ${final_price:.2f}')"
      ]
    },
    {
      "cell_type": "markdown",
      "metadata": {
        "id": "T1EtbbDKbPAD"
      },
      "source": [
        "**Client Report (Non-Technical Description):**\n",
        "\n",
        "To determine the price of your custom Asian option, we started by analyzing the current market for standard options on SM stock. This allowed us to build a sophisticated model (the Heston model) that captures the unique volatility behavior of the stock. Using this calibrated model, we ran thousands of computer simulations to forecast the potential paths of the stock price over the next 20 days. For each simulated path, we calculated the option's potential payoff. The fair price of your option is the average of all these potential payoffs, adjusted for today's value. We then add a standard 4% transaction fee to arrive at the final price."
      ]
    },
    {
      "cell_type": "markdown",
      "metadata": {
        "id": "I_0MKa-gjY7v"
      },
      "source": []
    },
    {
      "cell_type": "markdown",
      "metadata": {
        "id": "THEPevZFBbI9"
      },
      "source": [
        "## Step 2, Task a: Calibrating Bates (1996) Model for 60-Day Maturity"
      ]
    },
    {
      "cell_type": "markdown",
      "metadata": {
        "id": "odfEAD93bctG"
      },
      "source": [
        "**Methodology: Data Processing and Calibration**\n",
        "\n",
        "The client is interested in a longer-dated instrument, we must calibrate the Bates (1996) jump-diffusion model to the market prices of options with a maturity close to 60 days. The calibration will be performed using the **Lewis (2001) approach**.\n",
        "\n",
        "First, we load the option data and filter for the 60-day maturity. Then, we define the Bates characteristic function and the Lewis pricing integral. Finally, we use an optimization algorithm to find the model parameters that best fit the observed market prices by minimizing the Mean Squared Error (MSE)."
      ]
    },
    {
      "cell_type": "markdown",
      "metadata": {
        "id": "HyTXmyZRbgWe"
      },
      "source": [
        "First, we load 60 days maturity option market data from the file `MScFE 622_Stochastic Modeling_GWP1_Option data.xlsx`:"
      ]
    },
    {
      "cell_type": "code",
      "execution_count": null,
      "metadata": {
        "id": "GlAXfrAWbmDh"
      },
      "outputs": [],
      "source": [
        "def load_option_data(file_path, sheet_name=0):\n",
        "    option_data = pd.read_excel(file_path, sheet_name=sheet_name)\n",
        "    return option_data\n",
        "\n",
        "\n",
        "file_path = \"drive/MyDrive/Colab_Data/SM_GWP_1_M3/MScFE 622_Stochastic Modeling_GWP1_Option data.xlsx\"\n",
        "option_data = load_option_data(file_path)\n",
        "\n"
      ]
    },
    {
      "cell_type": "code",
      "execution_count": null,
      "metadata": {
        "id": "_7Z4WyVWb-jW"
      },
      "outputs": [],
      "source": [
        "#Use put-call parity with the closed-form solution for the call option.\n",
        "def put_to_call(row):\n",
        "    if row['Type'] == 'P':\n",
        "        return row['Price'] + S0 - row['Strike'] * np.exp(-r * row['T'])\n",
        "    else:\n",
        "        return row['Price']\n",
        "\n",
        "\n",
        "#Use put-call parity with the closed-form solution for the put option.\n",
        "def call_to_put(row):\n",
        "    if row['Type'] == 'C':\n",
        "        return row['Price'] - S0 + row['Strike'] * np.exp(-r * row['T'])\n",
        "    else:\n",
        "        return row['Price']"
      ]
    },
    {
      "cell_type": "code",
      "execution_count": null,
      "metadata": {
        "id": "RBLBUdc1cDSp",
        "colab": {
          "base_uri": "https://localhost:8080/"
        },
        "outputId": "ccaa3af6-a4ff-4b88-f295-7f88ddbfc6bf"
      },
      "outputs": [
        {
          "output_type": "stream",
          "name": "stdout",
          "text": [
            "    Days to maturity  Strike       Call        Put     T\n",
            "5                 60   227.5  16.780000  10.562472  0.24\n",
            "6                 60   230.0  17.650000  13.923489  0.24\n",
            "7                 60   232.5  16.860000  15.624505  0.24\n",
            "8                 60   235.0  16.050000  17.305521  0.24\n",
            "9                 60   237.5  15.100000  18.846537  0.24\n",
            "20                60   227.5  17.247528  11.030000  0.24\n",
            "21                60   230.0  15.876511  12.150000  0.24\n",
            "22                60   232.5  14.605495  13.370000  0.24\n",
            "23                60   235.0  13.494479  14.750000  0.24\n",
            "24                60   237.5  11.873463  15.620000  0.24\n"
          ]
        }
      ],
      "source": [
        "S0 = 232.90\n",
        "r = 0.015\n",
        "trading_days = 250\n",
        "\n",
        "maturity_days = 60\n",
        "df_60d = option_data[option_data['Days to maturity'] == maturity_days].copy()\n",
        "\n",
        "df_60d['T'] = df_60d['Days to maturity'] / trading_days\n",
        "\n",
        "\n",
        "if 'put_to_call' not in globals():\n",
        "\traise NameError(\"Function 'put_to_call' is not defined. Please run the cell that defines it.\")\n",
        "\n",
        "df_60d['Call_equiv_price'] = df_60d.apply(put_to_call, axis=1)\n",
        "df_60d['Put_equiv_price']= df_60d.apply(call_to_put, axis=1)\n",
        "df_15d=df_60d.drop(columns=['Price', 'Type'])\n",
        "\n",
        "\n",
        "calibration_data = df_60d[['Days to maturity','Strike', 'Call_equiv_price', 'Put_equiv_price','T']].copy()\n",
        "calibration_data.rename(columns={'Call_equiv_price': 'Call','Put_equiv_price': 'Put' }, inplace=True)\n",
        "\n",
        "print(calibration_data)"
      ]
    },
    {
      "cell_type": "markdown",
      "metadata": {
        "id": "YaeZ4hvIcKtH"
      },
      "source": [
        "Second, we select the options near ATM we are going to take into account in our calibration procedure and add short interest rates to work with later:"
      ]
    },
    {
      "cell_type": "code",
      "execution_count": null,
      "metadata": {
        "id": "SBWpqgECcPRR",
        "colab": {
          "base_uri": "https://localhost:8080/",
          "height": 326
        },
        "outputId": "c2f24103-612c-4281-922c-b9e8d36e27b5"
      },
      "outputs": [
        {
          "output_type": "stream",
          "name": "stderr",
          "text": [
            "/tmp/ipython-input-153-4234721806.py:9: SettingWithCopyWarning: \n",
            "A value is trying to be set on a copy of a slice from a DataFrame.\n",
            "Try using .loc[row_indexer,col_indexer] = value instead\n",
            "\n",
            "See the caveats in the documentation: https://pandas.pydata.org/pandas-docs/stable/user_guide/indexing.html#returning-a-view-versus-a-copy\n",
            "  options.loc[row, \"r\"] = 0.02\n"
          ]
        },
        {
          "output_type": "execute_result",
          "data": {
            "text/plain": [
              "    Days to maturity  Strike       Call        Put     T     r\n",
              "6                 60   230.0  17.650000  13.923489  0.24  0.02\n",
              "7                 60   232.5  16.860000  15.624505  0.24  0.02\n",
              "8                 60   235.0  16.050000  17.305521  0.24  0.02\n",
              "9                 60   237.5  15.100000  18.846537  0.24  0.02\n",
              "21                60   230.0  15.876511  12.150000  0.24  0.02"
            ],
            "text/html": [
              "\n",
              "  <div id=\"df-d8559dac-237b-491d-b3d6-4c989ae46871\" class=\"colab-df-container\">\n",
              "    <div>\n",
              "<style scoped>\n",
              "    .dataframe tbody tr th:only-of-type {\n",
              "        vertical-align: middle;\n",
              "    }\n",
              "\n",
              "    .dataframe tbody tr th {\n",
              "        vertical-align: top;\n",
              "    }\n",
              "\n",
              "    .dataframe thead th {\n",
              "        text-align: right;\n",
              "    }\n",
              "</style>\n",
              "<table border=\"1\" class=\"dataframe\">\n",
              "  <thead>\n",
              "    <tr style=\"text-align: right;\">\n",
              "      <th></th>\n",
              "      <th>Days to maturity</th>\n",
              "      <th>Strike</th>\n",
              "      <th>Call</th>\n",
              "      <th>Put</th>\n",
              "      <th>T</th>\n",
              "      <th>r</th>\n",
              "    </tr>\n",
              "  </thead>\n",
              "  <tbody>\n",
              "    <tr>\n",
              "      <th>6</th>\n",
              "      <td>60</td>\n",
              "      <td>230.0</td>\n",
              "      <td>17.650000</td>\n",
              "      <td>13.923489</td>\n",
              "      <td>0.24</td>\n",
              "      <td>0.02</td>\n",
              "    </tr>\n",
              "    <tr>\n",
              "      <th>7</th>\n",
              "      <td>60</td>\n",
              "      <td>232.5</td>\n",
              "      <td>16.860000</td>\n",
              "      <td>15.624505</td>\n",
              "      <td>0.24</td>\n",
              "      <td>0.02</td>\n",
              "    </tr>\n",
              "    <tr>\n",
              "      <th>8</th>\n",
              "      <td>60</td>\n",
              "      <td>235.0</td>\n",
              "      <td>16.050000</td>\n",
              "      <td>17.305521</td>\n",
              "      <td>0.24</td>\n",
              "      <td>0.02</td>\n",
              "    </tr>\n",
              "    <tr>\n",
              "      <th>9</th>\n",
              "      <td>60</td>\n",
              "      <td>237.5</td>\n",
              "      <td>15.100000</td>\n",
              "      <td>18.846537</td>\n",
              "      <td>0.24</td>\n",
              "      <td>0.02</td>\n",
              "    </tr>\n",
              "    <tr>\n",
              "      <th>21</th>\n",
              "      <td>60</td>\n",
              "      <td>230.0</td>\n",
              "      <td>15.876511</td>\n",
              "      <td>12.150000</td>\n",
              "      <td>0.24</td>\n",
              "      <td>0.02</td>\n",
              "    </tr>\n",
              "  </tbody>\n",
              "</table>\n",
              "</div>\n",
              "    <div class=\"colab-df-buttons\">\n",
              "\n",
              "  <div class=\"colab-df-container\">\n",
              "    <button class=\"colab-df-convert\" onclick=\"convertToInteractive('df-d8559dac-237b-491d-b3d6-4c989ae46871')\"\n",
              "            title=\"Convert this dataframe to an interactive table.\"\n",
              "            style=\"display:none;\">\n",
              "\n",
              "  <svg xmlns=\"http://www.w3.org/2000/svg\" height=\"24px\" viewBox=\"0 -960 960 960\">\n",
              "    <path d=\"M120-120v-720h720v720H120Zm60-500h600v-160H180v160Zm220 220h160v-160H400v160Zm0 220h160v-160H400v160ZM180-400h160v-160H180v160Zm440 0h160v-160H620v160ZM180-180h160v-160H180v160Zm440 0h160v-160H620v160Z\"/>\n",
              "  </svg>\n",
              "    </button>\n",
              "\n",
              "  <style>\n",
              "    .colab-df-container {\n",
              "      display:flex;\n",
              "      gap: 12px;\n",
              "    }\n",
              "\n",
              "    .colab-df-convert {\n",
              "      background-color: #E8F0FE;\n",
              "      border: none;\n",
              "      border-radius: 50%;\n",
              "      cursor: pointer;\n",
              "      display: none;\n",
              "      fill: #1967D2;\n",
              "      height: 32px;\n",
              "      padding: 0 0 0 0;\n",
              "      width: 32px;\n",
              "    }\n",
              "\n",
              "    .colab-df-convert:hover {\n",
              "      background-color: #E2EBFA;\n",
              "      box-shadow: 0px 1px 2px rgba(60, 64, 67, 0.3), 0px 1px 3px 1px rgba(60, 64, 67, 0.15);\n",
              "      fill: #174EA6;\n",
              "    }\n",
              "\n",
              "    .colab-df-buttons div {\n",
              "      margin-bottom: 4px;\n",
              "    }\n",
              "\n",
              "    [theme=dark] .colab-df-convert {\n",
              "      background-color: #3B4455;\n",
              "      fill: #D2E3FC;\n",
              "    }\n",
              "\n",
              "    [theme=dark] .colab-df-convert:hover {\n",
              "      background-color: #434B5C;\n",
              "      box-shadow: 0px 1px 3px 1px rgba(0, 0, 0, 0.15);\n",
              "      filter: drop-shadow(0px 1px 2px rgba(0, 0, 0, 0.3));\n",
              "      fill: #FFFFFF;\n",
              "    }\n",
              "  </style>\n",
              "\n",
              "    <script>\n",
              "      const buttonEl =\n",
              "        document.querySelector('#df-d8559dac-237b-491d-b3d6-4c989ae46871 button.colab-df-convert');\n",
              "      buttonEl.style.display =\n",
              "        google.colab.kernel.accessAllowed ? 'block' : 'none';\n",
              "\n",
              "      async function convertToInteractive(key) {\n",
              "        const element = document.querySelector('#df-d8559dac-237b-491d-b3d6-4c989ae46871');\n",
              "        const dataTable =\n",
              "          await google.colab.kernel.invokeFunction('convertToInteractive',\n",
              "                                                    [key], {});\n",
              "        if (!dataTable) return;\n",
              "\n",
              "        const docLinkHtml = 'Like what you see? Visit the ' +\n",
              "          '<a target=\"_blank\" href=https://colab.research.google.com/notebooks/data_table.ipynb>data table notebook</a>'\n",
              "          + ' to learn more about interactive tables.';\n",
              "        element.innerHTML = '';\n",
              "        dataTable['output_type'] = 'display_data';\n",
              "        await google.colab.output.renderOutput(dataTable, element);\n",
              "        const docLink = document.createElement('div');\n",
              "        docLink.innerHTML = docLinkHtml;\n",
              "        element.appendChild(docLink);\n",
              "      }\n",
              "    </script>\n",
              "  </div>\n",
              "\n",
              "\n",
              "    <div id=\"df-3c01e85d-f9e4-4c6d-9ceb-58967a532db2\">\n",
              "      <button class=\"colab-df-quickchart\" onclick=\"quickchart('df-3c01e85d-f9e4-4c6d-9ceb-58967a532db2')\"\n",
              "                title=\"Suggest charts\"\n",
              "                style=\"display:none;\">\n",
              "\n",
              "<svg xmlns=\"http://www.w3.org/2000/svg\" height=\"24px\"viewBox=\"0 0 24 24\"\n",
              "     width=\"24px\">\n",
              "    <g>\n",
              "        <path d=\"M19 3H5c-1.1 0-2 .9-2 2v14c0 1.1.9 2 2 2h14c1.1 0 2-.9 2-2V5c0-1.1-.9-2-2-2zM9 17H7v-7h2v7zm4 0h-2V7h2v10zm4 0h-2v-4h2v4z\"/>\n",
              "    </g>\n",
              "</svg>\n",
              "      </button>\n",
              "\n",
              "<style>\n",
              "  .colab-df-quickchart {\n",
              "      --bg-color: #E8F0FE;\n",
              "      --fill-color: #1967D2;\n",
              "      --hover-bg-color: #E2EBFA;\n",
              "      --hover-fill-color: #174EA6;\n",
              "      --disabled-fill-color: #AAA;\n",
              "      --disabled-bg-color: #DDD;\n",
              "  }\n",
              "\n",
              "  [theme=dark] .colab-df-quickchart {\n",
              "      --bg-color: #3B4455;\n",
              "      --fill-color: #D2E3FC;\n",
              "      --hover-bg-color: #434B5C;\n",
              "      --hover-fill-color: #FFFFFF;\n",
              "      --disabled-bg-color: #3B4455;\n",
              "      --disabled-fill-color: #666;\n",
              "  }\n",
              "\n",
              "  .colab-df-quickchart {\n",
              "    background-color: var(--bg-color);\n",
              "    border: none;\n",
              "    border-radius: 50%;\n",
              "    cursor: pointer;\n",
              "    display: none;\n",
              "    fill: var(--fill-color);\n",
              "    height: 32px;\n",
              "    padding: 0;\n",
              "    width: 32px;\n",
              "  }\n",
              "\n",
              "  .colab-df-quickchart:hover {\n",
              "    background-color: var(--hover-bg-color);\n",
              "    box-shadow: 0 1px 2px rgba(60, 64, 67, 0.3), 0 1px 3px 1px rgba(60, 64, 67, 0.15);\n",
              "    fill: var(--button-hover-fill-color);\n",
              "  }\n",
              "\n",
              "  .colab-df-quickchart-complete:disabled,\n",
              "  .colab-df-quickchart-complete:disabled:hover {\n",
              "    background-color: var(--disabled-bg-color);\n",
              "    fill: var(--disabled-fill-color);\n",
              "    box-shadow: none;\n",
              "  }\n",
              "\n",
              "  .colab-df-spinner {\n",
              "    border: 2px solid var(--fill-color);\n",
              "    border-color: transparent;\n",
              "    border-bottom-color: var(--fill-color);\n",
              "    animation:\n",
              "      spin 1s steps(1) infinite;\n",
              "  }\n",
              "\n",
              "  @keyframes spin {\n",
              "    0% {\n",
              "      border-color: transparent;\n",
              "      border-bottom-color: var(--fill-color);\n",
              "      border-left-color: var(--fill-color);\n",
              "    }\n",
              "    20% {\n",
              "      border-color: transparent;\n",
              "      border-left-color: var(--fill-color);\n",
              "      border-top-color: var(--fill-color);\n",
              "    }\n",
              "    30% {\n",
              "      border-color: transparent;\n",
              "      border-left-color: var(--fill-color);\n",
              "      border-top-color: var(--fill-color);\n",
              "      border-right-color: var(--fill-color);\n",
              "    }\n",
              "    40% {\n",
              "      border-color: transparent;\n",
              "      border-right-color: var(--fill-color);\n",
              "      border-top-color: var(--fill-color);\n",
              "    }\n",
              "    60% {\n",
              "      border-color: transparent;\n",
              "      border-right-color: var(--fill-color);\n",
              "    }\n",
              "    80% {\n",
              "      border-color: transparent;\n",
              "      border-right-color: var(--fill-color);\n",
              "      border-bottom-color: var(--fill-color);\n",
              "    }\n",
              "    90% {\n",
              "      border-color: transparent;\n",
              "      border-bottom-color: var(--fill-color);\n",
              "    }\n",
              "  }\n",
              "</style>\n",
              "\n",
              "      <script>\n",
              "        async function quickchart(key) {\n",
              "          const quickchartButtonEl =\n",
              "            document.querySelector('#' + key + ' button');\n",
              "          quickchartButtonEl.disabled = true;  // To prevent multiple clicks.\n",
              "          quickchartButtonEl.classList.add('colab-df-spinner');\n",
              "          try {\n",
              "            const charts = await google.colab.kernel.invokeFunction(\n",
              "                'suggestCharts', [key], {});\n",
              "          } catch (error) {\n",
              "            console.error('Error during call to suggestCharts:', error);\n",
              "          }\n",
              "          quickchartButtonEl.classList.remove('colab-df-spinner');\n",
              "          quickchartButtonEl.classList.add('colab-df-quickchart-complete');\n",
              "        }\n",
              "        (() => {\n",
              "          let quickchartButtonEl =\n",
              "            document.querySelector('#df-3c01e85d-f9e4-4c6d-9ceb-58967a532db2 button');\n",
              "          quickchartButtonEl.style.display =\n",
              "            google.colab.kernel.accessAllowed ? 'block' : 'none';\n",
              "        })();\n",
              "      </script>\n",
              "    </div>\n",
              "\n",
              "    </div>\n",
              "  </div>\n"
            ],
            "application/vnd.google.colaboratory.intrinsic+json": {
              "type": "dataframe",
              "variable_name": "options",
              "summary": "{\n  \"name\": \"options\",\n  \"rows\": 8,\n  \"fields\": [\n    {\n      \"column\": \"Days to maturity\",\n      \"properties\": {\n        \"dtype\": \"number\",\n        \"std\": 0,\n        \"min\": 60,\n        \"max\": 60,\n        \"num_unique_values\": 1,\n        \"samples\": [\n          60\n        ],\n        \"semantic_type\": \"\",\n        \"description\": \"\"\n      }\n    },\n    {\n      \"column\": \"Strike\",\n      \"properties\": {\n        \"dtype\": \"number\",\n        \"std\": 2.988071523335984,\n        \"min\": 230.0,\n        \"max\": 237.5,\n        \"num_unique_values\": 4,\n        \"samples\": [\n          232.5\n        ],\n        \"semantic_type\": \"\",\n        \"description\": \"\"\n      }\n    },\n    {\n      \"column\": \"Call\",\n      \"properties\": {\n        \"dtype\": \"number\",\n        \"std\": 1.8622314258055899,\n        \"min\": 11.873462845139102,\n        \"max\": 17.65,\n        \"num_unique_values\": 8,\n        \"samples\": [\n          16.86\n        ],\n        \"semantic_type\": \"\",\n        \"description\": \"\"\n      }\n    },\n    {\n      \"column\": \"Put\",\n      \"properties\": {\n        \"dtype\": \"number\",\n        \"std\": 2.1570623232313126,\n        \"min\": 12.15,\n        \"max\": 18.846537154860897,\n        \"num_unique_values\": 8,\n        \"samples\": [\n          15.624504793705938\n        ],\n        \"semantic_type\": \"\",\n        \"description\": \"\"\n      }\n    },\n    {\n      \"column\": \"T\",\n      \"properties\": {\n        \"dtype\": \"number\",\n        \"std\": 0.0,\n        \"min\": 0.24,\n        \"max\": 0.24,\n        \"num_unique_values\": 1,\n        \"samples\": [\n          0.24\n        ],\n        \"semantic_type\": \"\",\n        \"description\": \"\"\n      }\n    },\n    {\n      \"column\": \"r\",\n      \"properties\": {\n        \"dtype\": \"number\",\n        \"std\": 0.0,\n        \"min\": 0.02,\n        \"max\": 0.02,\n        \"num_unique_values\": 1,\n        \"samples\": [\n          0.02\n        ],\n        \"semantic_type\": \"\",\n        \"description\": \"\"\n      }\n    }\n  ]\n}"
            }
          },
          "metadata": {},
          "execution_count": 153
        }
      ],
      "source": [
        "tol = 0.02  # Tolerance level to select ATM options (percent around ITM/OTM options)\n",
        "options = calibration_data[(np.abs(calibration_data[\"Strike\"] - S0) / S0) < tol]\n",
        "\n",
        "# Adding Time-to-Maturity and constant short-rates\n",
        "\n",
        "for row, option in options.iterrows():\n",
        "    T = (maturity_days / trading_days)\n",
        "    options.loc[row, \"T\"] = T\n",
        "    options.loc[row, \"r\"] = 0.02\n",
        "\n",
        "# Select closest maturity\n",
        "mats = sorted(set(options[\"Days to maturity\"]))\n",
        "options = options[options[\"Days to maturity\"] == mats[0]]\n",
        "options.head()\n"
      ]
    },
    {
      "cell_type": "markdown",
      "metadata": {
        "id": "3aZUsNJdcVND"
      },
      "source": [
        "The last row is not consistent with the desired data (same srike as first and higher call price than previouse call price), so it best to drop it for near linear progression."
      ]
    },
    {
      "cell_type": "code",
      "execution_count": null,
      "metadata": {
        "id": "jJmHfHtlcgTm",
        "colab": {
          "base_uri": "https://localhost:8080/",
          "height": 207
        },
        "outputId": "4c4707ab-7440-41e0-d0b2-c92c7387fc59"
      },
      "outputs": [
        {
          "output_type": "stream",
          "name": "stdout",
          "text": [
            "\n",
            "DataFrame after dropping the last row:\n"
          ]
        },
        {
          "output_type": "execute_result",
          "data": {
            "text/plain": [
              "   Days to maturity  Strike   Call        Put     T     r\n",
              "0                60   230.0  17.65  13.923489  0.24  0.02\n",
              "1                60   232.5  16.86  15.624505  0.24  0.02\n",
              "2                60   235.0  16.05  17.305521  0.24  0.02\n",
              "3                60   237.5  15.10  18.846537  0.24  0.02"
            ],
            "text/html": [
              "\n",
              "  <div id=\"df-8fa79269-2423-4f17-9cf7-e5ea971bb0f3\" class=\"colab-df-container\">\n",
              "    <div>\n",
              "<style scoped>\n",
              "    .dataframe tbody tr th:only-of-type {\n",
              "        vertical-align: middle;\n",
              "    }\n",
              "\n",
              "    .dataframe tbody tr th {\n",
              "        vertical-align: top;\n",
              "    }\n",
              "\n",
              "    .dataframe thead th {\n",
              "        text-align: right;\n",
              "    }\n",
              "</style>\n",
              "<table border=\"1\" class=\"dataframe\">\n",
              "  <thead>\n",
              "    <tr style=\"text-align: right;\">\n",
              "      <th></th>\n",
              "      <th>Days to maturity</th>\n",
              "      <th>Strike</th>\n",
              "      <th>Call</th>\n",
              "      <th>Put</th>\n",
              "      <th>T</th>\n",
              "      <th>r</th>\n",
              "    </tr>\n",
              "  </thead>\n",
              "  <tbody>\n",
              "    <tr>\n",
              "      <th>0</th>\n",
              "      <td>60</td>\n",
              "      <td>230.0</td>\n",
              "      <td>17.65</td>\n",
              "      <td>13.923489</td>\n",
              "      <td>0.24</td>\n",
              "      <td>0.02</td>\n",
              "    </tr>\n",
              "    <tr>\n",
              "      <th>1</th>\n",
              "      <td>60</td>\n",
              "      <td>232.5</td>\n",
              "      <td>16.86</td>\n",
              "      <td>15.624505</td>\n",
              "      <td>0.24</td>\n",
              "      <td>0.02</td>\n",
              "    </tr>\n",
              "    <tr>\n",
              "      <th>2</th>\n",
              "      <td>60</td>\n",
              "      <td>235.0</td>\n",
              "      <td>16.05</td>\n",
              "      <td>17.305521</td>\n",
              "      <td>0.24</td>\n",
              "      <td>0.02</td>\n",
              "    </tr>\n",
              "    <tr>\n",
              "      <th>3</th>\n",
              "      <td>60</td>\n",
              "      <td>237.5</td>\n",
              "      <td>15.10</td>\n",
              "      <td>18.846537</td>\n",
              "      <td>0.24</td>\n",
              "      <td>0.02</td>\n",
              "    </tr>\n",
              "  </tbody>\n",
              "</table>\n",
              "</div>\n",
              "    <div class=\"colab-df-buttons\">\n",
              "\n",
              "  <div class=\"colab-df-container\">\n",
              "    <button class=\"colab-df-convert\" onclick=\"convertToInteractive('df-8fa79269-2423-4f17-9cf7-e5ea971bb0f3')\"\n",
              "            title=\"Convert this dataframe to an interactive table.\"\n",
              "            style=\"display:none;\">\n",
              "\n",
              "  <svg xmlns=\"http://www.w3.org/2000/svg\" height=\"24px\" viewBox=\"0 -960 960 960\">\n",
              "    <path d=\"M120-120v-720h720v720H120Zm60-500h600v-160H180v160Zm220 220h160v-160H400v160Zm0 220h160v-160H400v160ZM180-400h160v-160H180v160Zm440 0h160v-160H620v160ZM180-180h160v-160H180v160Zm440 0h160v-160H620v160Z\"/>\n",
              "  </svg>\n",
              "    </button>\n",
              "\n",
              "  <style>\n",
              "    .colab-df-container {\n",
              "      display:flex;\n",
              "      gap: 12px;\n",
              "    }\n",
              "\n",
              "    .colab-df-convert {\n",
              "      background-color: #E8F0FE;\n",
              "      border: none;\n",
              "      border-radius: 50%;\n",
              "      cursor: pointer;\n",
              "      display: none;\n",
              "      fill: #1967D2;\n",
              "      height: 32px;\n",
              "      padding: 0 0 0 0;\n",
              "      width: 32px;\n",
              "    }\n",
              "\n",
              "    .colab-df-convert:hover {\n",
              "      background-color: #E2EBFA;\n",
              "      box-shadow: 0px 1px 2px rgba(60, 64, 67, 0.3), 0px 1px 3px 1px rgba(60, 64, 67, 0.15);\n",
              "      fill: #174EA6;\n",
              "    }\n",
              "\n",
              "    .colab-df-buttons div {\n",
              "      margin-bottom: 4px;\n",
              "    }\n",
              "\n",
              "    [theme=dark] .colab-df-convert {\n",
              "      background-color: #3B4455;\n",
              "      fill: #D2E3FC;\n",
              "    }\n",
              "\n",
              "    [theme=dark] .colab-df-convert:hover {\n",
              "      background-color: #434B5C;\n",
              "      box-shadow: 0px 1px 3px 1px rgba(0, 0, 0, 0.15);\n",
              "      filter: drop-shadow(0px 1px 2px rgba(0, 0, 0, 0.3));\n",
              "      fill: #FFFFFF;\n",
              "    }\n",
              "  </style>\n",
              "\n",
              "    <script>\n",
              "      const buttonEl =\n",
              "        document.querySelector('#df-8fa79269-2423-4f17-9cf7-e5ea971bb0f3 button.colab-df-convert');\n",
              "      buttonEl.style.display =\n",
              "        google.colab.kernel.accessAllowed ? 'block' : 'none';\n",
              "\n",
              "      async function convertToInteractive(key) {\n",
              "        const element = document.querySelector('#df-8fa79269-2423-4f17-9cf7-e5ea971bb0f3');\n",
              "        const dataTable =\n",
              "          await google.colab.kernel.invokeFunction('convertToInteractive',\n",
              "                                                    [key], {});\n",
              "        if (!dataTable) return;\n",
              "\n",
              "        const docLinkHtml = 'Like what you see? Visit the ' +\n",
              "          '<a target=\"_blank\" href=https://colab.research.google.com/notebooks/data_table.ipynb>data table notebook</a>'\n",
              "          + ' to learn more about interactive tables.';\n",
              "        element.innerHTML = '';\n",
              "        dataTable['output_type'] = 'display_data';\n",
              "        await google.colab.output.renderOutput(dataTable, element);\n",
              "        const docLink = document.createElement('div');\n",
              "        docLink.innerHTML = docLinkHtml;\n",
              "        element.appendChild(docLink);\n",
              "      }\n",
              "    </script>\n",
              "  </div>\n",
              "\n",
              "\n",
              "    <div id=\"df-639f48b4-0ada-4c20-87a0-e6afefb30d1d\">\n",
              "      <button class=\"colab-df-quickchart\" onclick=\"quickchart('df-639f48b4-0ada-4c20-87a0-e6afefb30d1d')\"\n",
              "                title=\"Suggest charts\"\n",
              "                style=\"display:none;\">\n",
              "\n",
              "<svg xmlns=\"http://www.w3.org/2000/svg\" height=\"24px\"viewBox=\"0 0 24 24\"\n",
              "     width=\"24px\">\n",
              "    <g>\n",
              "        <path d=\"M19 3H5c-1.1 0-2 .9-2 2v14c0 1.1.9 2 2 2h14c1.1 0 2-.9 2-2V5c0-1.1-.9-2-2-2zM9 17H7v-7h2v7zm4 0h-2V7h2v10zm4 0h-2v-4h2v4z\"/>\n",
              "    </g>\n",
              "</svg>\n",
              "      </button>\n",
              "\n",
              "<style>\n",
              "  .colab-df-quickchart {\n",
              "      --bg-color: #E8F0FE;\n",
              "      --fill-color: #1967D2;\n",
              "      --hover-bg-color: #E2EBFA;\n",
              "      --hover-fill-color: #174EA6;\n",
              "      --disabled-fill-color: #AAA;\n",
              "      --disabled-bg-color: #DDD;\n",
              "  }\n",
              "\n",
              "  [theme=dark] .colab-df-quickchart {\n",
              "      --bg-color: #3B4455;\n",
              "      --fill-color: #D2E3FC;\n",
              "      --hover-bg-color: #434B5C;\n",
              "      --hover-fill-color: #FFFFFF;\n",
              "      --disabled-bg-color: #3B4455;\n",
              "      --disabled-fill-color: #666;\n",
              "  }\n",
              "\n",
              "  .colab-df-quickchart {\n",
              "    background-color: var(--bg-color);\n",
              "    border: none;\n",
              "    border-radius: 50%;\n",
              "    cursor: pointer;\n",
              "    display: none;\n",
              "    fill: var(--fill-color);\n",
              "    height: 32px;\n",
              "    padding: 0;\n",
              "    width: 32px;\n",
              "  }\n",
              "\n",
              "  .colab-df-quickchart:hover {\n",
              "    background-color: var(--hover-bg-color);\n",
              "    box-shadow: 0 1px 2px rgba(60, 64, 67, 0.3), 0 1px 3px 1px rgba(60, 64, 67, 0.15);\n",
              "    fill: var(--button-hover-fill-color);\n",
              "  }\n",
              "\n",
              "  .colab-df-quickchart-complete:disabled,\n",
              "  .colab-df-quickchart-complete:disabled:hover {\n",
              "    background-color: var(--disabled-bg-color);\n",
              "    fill: var(--disabled-fill-color);\n",
              "    box-shadow: none;\n",
              "  }\n",
              "\n",
              "  .colab-df-spinner {\n",
              "    border: 2px solid var(--fill-color);\n",
              "    border-color: transparent;\n",
              "    border-bottom-color: var(--fill-color);\n",
              "    animation:\n",
              "      spin 1s steps(1) infinite;\n",
              "  }\n",
              "\n",
              "  @keyframes spin {\n",
              "    0% {\n",
              "      border-color: transparent;\n",
              "      border-bottom-color: var(--fill-color);\n",
              "      border-left-color: var(--fill-color);\n",
              "    }\n",
              "    20% {\n",
              "      border-color: transparent;\n",
              "      border-left-color: var(--fill-color);\n",
              "      border-top-color: var(--fill-color);\n",
              "    }\n",
              "    30% {\n",
              "      border-color: transparent;\n",
              "      border-left-color: var(--fill-color);\n",
              "      border-top-color: var(--fill-color);\n",
              "      border-right-color: var(--fill-color);\n",
              "    }\n",
              "    40% {\n",
              "      border-color: transparent;\n",
              "      border-right-color: var(--fill-color);\n",
              "      border-top-color: var(--fill-color);\n",
              "    }\n",
              "    60% {\n",
              "      border-color: transparent;\n",
              "      border-right-color: var(--fill-color);\n",
              "    }\n",
              "    80% {\n",
              "      border-color: transparent;\n",
              "      border-right-color: var(--fill-color);\n",
              "      border-bottom-color: var(--fill-color);\n",
              "    }\n",
              "    90% {\n",
              "      border-color: transparent;\n",
              "      border-bottom-color: var(--fill-color);\n",
              "    }\n",
              "  }\n",
              "</style>\n",
              "\n",
              "      <script>\n",
              "        async function quickchart(key) {\n",
              "          const quickchartButtonEl =\n",
              "            document.querySelector('#' + key + ' button');\n",
              "          quickchartButtonEl.disabled = true;  // To prevent multiple clicks.\n",
              "          quickchartButtonEl.classList.add('colab-df-spinner');\n",
              "          try {\n",
              "            const charts = await google.colab.kernel.invokeFunction(\n",
              "                'suggestCharts', [key], {});\n",
              "          } catch (error) {\n",
              "            console.error('Error during call to suggestCharts:', error);\n",
              "          }\n",
              "          quickchartButtonEl.classList.remove('colab-df-spinner');\n",
              "          quickchartButtonEl.classList.add('colab-df-quickchart-complete');\n",
              "        }\n",
              "        (() => {\n",
              "          let quickchartButtonEl =\n",
              "            document.querySelector('#df-639f48b4-0ada-4c20-87a0-e6afefb30d1d button');\n",
              "          quickchartButtonEl.style.display =\n",
              "            google.colab.kernel.accessAllowed ? 'block' : 'none';\n",
              "        })();\n",
              "      </script>\n",
              "    </div>\n",
              "\n",
              "    </div>\n",
              "  </div>\n"
            ],
            "application/vnd.google.colaboratory.intrinsic+json": {
              "type": "dataframe",
              "variable_name": "options",
              "summary": "{\n  \"name\": \"options\",\n  \"rows\": 4,\n  \"fields\": [\n    {\n      \"column\": \"Days to maturity\",\n      \"properties\": {\n        \"dtype\": \"number\",\n        \"std\": 0,\n        \"min\": 60,\n        \"max\": 60,\n        \"num_unique_values\": 1,\n        \"samples\": [\n          60\n        ],\n        \"semantic_type\": \"\",\n        \"description\": \"\"\n      }\n    },\n    {\n      \"column\": \"Strike\",\n      \"properties\": {\n        \"dtype\": \"number\",\n        \"std\": 3.227486121839514,\n        \"min\": 230.0,\n        \"max\": 237.5,\n        \"num_unique_values\": 4,\n        \"samples\": [\n          232.5\n        ],\n        \"semantic_type\": \"\",\n        \"description\": \"\"\n      }\n    },\n    {\n      \"column\": \"Call\",\n      \"properties\": {\n        \"dtype\": \"number\",\n        \"std\": 1.093267274427133,\n        \"min\": 15.1,\n        \"max\": 17.65,\n        \"num_unique_values\": 4,\n        \"samples\": [\n          16.86\n        ],\n        \"semantic_type\": \"\",\n        \"description\": \"\"\n      }\n    },\n    {\n      \"column\": \"Put\",\n      \"properties\": {\n        \"dtype\": \"number\",\n        \"std\": 2.1242652220850395,\n        \"min\": 13.923489,\n        \"max\": 18.846537,\n        \"num_unique_values\": 4,\n        \"samples\": [\n          15.624505\n        ],\n        \"semantic_type\": \"\",\n        \"description\": \"\"\n      }\n    },\n    {\n      \"column\": \"T\",\n      \"properties\": {\n        \"dtype\": \"number\",\n        \"std\": 0.0,\n        \"min\": 0.24,\n        \"max\": 0.24,\n        \"num_unique_values\": 1,\n        \"samples\": [\n          0.24\n        ],\n        \"semantic_type\": \"\",\n        \"description\": \"\"\n      }\n    },\n    {\n      \"column\": \"r\",\n      \"properties\": {\n        \"dtype\": \"number\",\n        \"std\": 0.0,\n        \"min\": 0.02,\n        \"max\": 0.02,\n        \"num_unique_values\": 1,\n        \"samples\": [\n          0.02\n        ],\n        \"semantic_type\": \"\",\n        \"description\": \"\"\n      }\n    }\n  ]\n}"
            }
          },
          "metadata": {},
          "execution_count": 154
        }
      ],
      "source": [
        "# Let's create a sample DataFrame that looks like your image\n",
        "data = {\n",
        "    'Days to maturity': [60, 60, 60, 60, 60],\n",
        "    'Strike': [230.0, 232.5, 235.0, 237.5, 230.0],\n",
        "    'Call': [17.650000, 16.860000, 16.050000, 15.100000, 15.876511],\n",
        "    'Put': [13.923489, 15.624505, 17.305521, 18.846537, 12.150000],\n",
        "    'T': [0.24, 0.24, 0.24, 0.24, 0.24],\n",
        "    'r': [0.02, 0.02, 0.02, 0.02, 0.02]\n",
        "}\n",
        "df = pd.DataFrame(data)\n",
        "\n",
        "# To drop the last row\n",
        "# Method 1: Using .drop() with the index\n",
        "df_dropped = df.drop(df.index[-1])\n",
        "\n",
        "# Method 2: Slicing (creates a new DataFrame without the last row)\n",
        "# df_dropped = df.iloc[:-1]\n",
        "options = df_dropped\n",
        "print(\"\\nDataFrame after dropping the last row:\")\n",
        "\n",
        "options.head()"
      ]
    },
    {
      "cell_type": "markdown",
      "metadata": {
        "id": "9sceXvvzcm2T"
      },
      "source": [
        "##  Calibration of the jump component\n",
        "\n",
        "So, let's finally perform the calibration of the jump component.\n",
        "\n",
        "### Error function\n",
        "\n",
        "Let's start by setting calibration parameters and defining the error function, which obviously will be looking at differences between market and model prices for the complete Bates (1996) model:"
      ]
    },
    {
      "cell_type": "code",
      "execution_count": null,
      "metadata": {
        "id": "Tu9svIN_c3d5"
      },
      "outputs": [],
      "source": [
        "i = 0\n",
        "min_MSE = 5000.0\n",
        "local_opt = False"
      ]
    },
    {
      "cell_type": "code",
      "execution_count": null,
      "metadata": {
        "id": "-j82NPetc63K"
      },
      "outputs": [],
      "source": [
        "def B96_error_function(p0):\n",
        "    \"\"\"\n",
        "    Error function for Bates (1996) model\n",
        "\n",
        "    Parameters:\n",
        "    -------------\n",
        "    lamb: float\n",
        "        jump intensity\n",
        "    mu: float\n",
        "        expected jump size\n",
        "    delta: float\n",
        "        standard deviation of jump\n",
        "    Returns\n",
        "    -------------\n",
        "    MSE: float\n",
        "        mean squared error\n",
        "    \"\"\"\n",
        "\n",
        "    global i, min_MSE, local_opt, opt1\n",
        "    lamb, mu, delta = p0\n",
        "    if lamb < 0.0 or mu < -0.6 or mu > 0.0 or delta < 0.0:\n",
        "        return 5000.0\n",
        "    se = []\n",
        "    for row, option in options.iterrows():\n",
        "        model_value = B96_call_value(\n",
        "            S0,\n",
        "            option[\"Strike\"],\n",
        "            option[\"T\"],\n",
        "            option[\"r\"],\n",
        "            kappa_v,\n",
        "            theta_v,\n",
        "            sigma_v,\n",
        "            rho,\n",
        "            v0,\n",
        "            lamb,\n",
        "            mu,\n",
        "            delta,\n",
        "        )\n",
        "        se.append((model_value - option[\"Call\"]) ** 2)\n",
        "    MSE = sum(se) / len(se)\n",
        "    min_MSE = min(min_MSE, MSE)\n",
        "    if i % 25 == 0:\n",
        "        print(\"%4d |\" % i, np.array(p0), \"| %7.3f | %7.3f\" % (MSE, min_MSE))\n",
        "    i += 1\n",
        "    if local_opt:\n",
        "        penalty = np.sqrt(np.sum((p0 - opt1) ** 2)) * 1\n",
        "        return MSE + penalty\n",
        "    return MSE"
      ]
    },
    {
      "cell_type": "markdown",
      "metadata": {
        "id": "FghBmbq7c-f9"
      },
      "source": [
        "### Option pricing functions\n",
        "\n",
        "Obviously, for this error function to being able to compute model option prices we also need to import or load the different functions used in the pricing via Bates (1996) model. This is no different from what we did in the previous lesson so you could just copy here those same functions. First, for the value of the option:"
      ]
    },
    {
      "cell_type": "code",
      "execution_count": null,
      "metadata": {
        "id": "bP24wsqgdFr5"
      },
      "outputs": [],
      "source": [
        "def B96_call_value(S0, K, T, r, kappa_v, theta_v, sigma_v, rho, v0, lamb, mu, delta):\n",
        "    \"\"\"\n",
        "    Valuation of European call option in B96 Model via Lewis (2001)\n",
        "    Parameters:\n",
        "    ==========\n",
        "    S0: float\n",
        "        initial stock/index level\n",
        "    K: float\n",
        "        strike price\n",
        "    T: float\n",
        "        time-to-maturity (for t=0)\n",
        "    r: float\n",
        "        constant risk-free short rate\n",
        "    kappa_v: float\n",
        "        mean-reversion factor\n",
        "    theta_v: float\n",
        "        long-run mean of variance\n",
        "    sigma_v: float\n",
        "        volatility of variance\n",
        "    rho: float\n",
        "        correlation between variance and stock/index level\n",
        "    v0: float\n",
        "        initial level of variance\n",
        "    lamb: float\n",
        "        jump intensity\n",
        "    mu: float\n",
        "        expected jump size\n",
        "    delta: float\n",
        "        standard deviation of jump\n",
        "    ==========\n",
        "    \"\"\"\n",
        "    int_value = quad(\n",
        "        lambda u: B96_int_func(\n",
        "            u, S0, K, T, r, kappa_v, theta_v, sigma_v, rho, v0, lamb, mu, delta\n",
        "        ),\n",
        "        0,\n",
        "        np.inf,\n",
        "        limit=250,\n",
        "    )[0]\n",
        "    call_value = max(0, S0 - np.exp(-r * T) * np.sqrt(S0 * K) / np.pi * int_value)\n",
        "    return call_value"
      ]
    },
    {
      "cell_type": "markdown",
      "metadata": {
        "id": "g_jpzwZ_dMRw"
      },
      "source": [
        "And then of course for the different characteristic functions and computation of the Lewis (2001) integral:"
      ]
    },
    {
      "cell_type": "code",
      "execution_count": null,
      "metadata": {
        "id": "VQ7QSr8NdQqx"
      },
      "outputs": [],
      "source": [
        "def H93_char_func(u, T, r, kappa_v, theta_v, sigma_v, rho, v0):\n",
        "    \"\"\"Valuation of European call option in H93 model via Lewis (2001)\n",
        "    Fourier-based approach: characteristic function.\n",
        "    Parameter definitions see function BCC_call_value.\"\"\"\n",
        "    c1 = kappa_v * theta_v\n",
        "    c2 = -np.sqrt(\n",
        "        (rho * sigma_v * u * 1j - kappa_v) ** 2 - sigma_v**2 * (-u * 1j - u**2)\n",
        "    )\n",
        "    c3 = (kappa_v - rho * sigma_v * u * 1j + c2) / (\n",
        "        kappa_v - rho * sigma_v * u * 1j - c2\n",
        "    )\n",
        "    H1 = r * u * 1j * T + (c1 / sigma_v**2) * (\n",
        "        (kappa_v - rho * sigma_v * u * 1j + c2) * T\n",
        "        - 2 * np.log((1 - c3 * np.exp(c2 * T)) / (1 - c3))\n",
        "    )\n",
        "    H2 = (\n",
        "        (kappa_v - rho * sigma_v * u * 1j + c2)\n",
        "        / sigma_v**2\n",
        "        * ((1 - np.exp(c2 * T)) / (1 - c3 * np.exp(c2 * T)))\n",
        "    )\n",
        "    char_func_value = np.exp(H1 + H2 * v0)\n",
        "    return char_func_value"
      ]
    },
    {
      "cell_type": "code",
      "execution_count": null,
      "metadata": {
        "id": "6cofZBbxdXxj"
      },
      "outputs": [],
      "source": [
        "def M76J_char_func(u, T, lamb, mu, delta):\n",
        "    \"\"\"\n",
        "    Adjusted Characteristic function for Merton '76 model: Only jump component\n",
        "    \"\"\"\n",
        "\n",
        "    omega = -lamb * (np.exp(mu + 0.5 * delta**2) - 1)\n",
        "    char_func_value = np.exp(\n",
        "        (1j * u * omega + lamb * (np.exp(1j * u * mu - u**2 * delta**2 * 0.5) - 1))\n",
        "        * T\n",
        "    )\n",
        "    return char_func_value"
      ]
    },
    {
      "cell_type": "code",
      "execution_count": null,
      "metadata": {
        "id": "AhQeUoyFdd2A"
      },
      "outputs": [],
      "source": [
        "def B96_char_func(u, T, r, kappa_v, theta_v, sigma_v, rho, v0, lamb, mu, delta):\n",
        "    \"\"\"\n",
        "    Bates (1996) characteristic function\n",
        "    \"\"\"\n",
        "    H93 = H93_char_func(u, T, r, kappa_v, theta_v, sigma_v, rho, v0)\n",
        "    M76J = M76J_char_func(u, T, lamb, mu, delta)\n",
        "    return H93 * M76J"
      ]
    },
    {
      "cell_type": "code",
      "execution_count": null,
      "metadata": {
        "id": "ngUxEnekdiKk"
      },
      "outputs": [],
      "source": [
        "def B96_int_func(u, S0, K, T, r, kappa_v, theta_v, sigma_v, rho, v0, lamb, mu, delta):\n",
        "    \"\"\"\n",
        "    Lewis (2001) integral value for Bates (1996) characteristic function\n",
        "    \"\"\"\n",
        "    char_func_value = B96_char_func(\n",
        "        u - 1j * 0.5, T, r, kappa_v, theta_v, sigma_v, rho, v0, lamb, mu, delta\n",
        "    )\n",
        "    int_func_value = (\n",
        "        1 / (u**2 + 0.25) * (np.exp(1j * u * np.log(S0 / K)) * char_func_value).real\n",
        "    )\n",
        "    return int_func_value"
      ]
    },
    {
      "cell_type": "markdown",
      "metadata": {
        "id": "e5VshPoad834"
      },
      "source": [
        "###  Calibration functions\n",
        "\n",
        "Finally, we can create our functions to calibrate the jump component of the model:"
      ]
    },
    {
      "cell_type": "markdown",
      "metadata": {
        "id": "S2x57lj-dlbV"
      },
      "source": [
        "###  Calibration functions\n",
        "\n",
        "Finally, we can create our functions to calibrate the jump component of the model:"
      ]
    },
    {
      "cell_type": "code",
      "execution_count": null,
      "metadata": {
        "id": "DIhfZe5deCDL"
      },
      "outputs": [],
      "source": [
        "def B96_calibration_short():\n",
        "    \"\"\"\n",
        "    Calibrates jump component of Bates (1996) model to market prices\n",
        "    \"\"\"\n",
        "    # First, we run with brute force\n",
        "    # (scan sensible regions)\n",
        "    opt1 = 0.0\n",
        "    opt1 = brute(\n",
        "        B96_error_function,\n",
        "        (\n",
        "            (0.0, 0.51, 0.1),  # lambda\n",
        "            (-0.5, -0.11, 0.1),  # mu\n",
        "            (0.0, 0.51, 0.25),\n",
        "        ),  # delta\n",
        "        finish=None,\n",
        "    )\n",
        "\n",
        "    # Second, we run with local, convex minimization\n",
        "    # (dig deeper where promising)\n",
        "    opt2 = fmin(\n",
        "        B96_error_function,\n",
        "        opt1,\n",
        "        xtol=0.0000001,\n",
        "        ftol=0.0000001,\n",
        "        maxiter=550,\n",
        "        maxfun=750,\n",
        "    )\n",
        "    return opt2"
      ]
    },
    {
      "cell_type": "markdown",
      "metadata": {
        "id": "Mh6Dlsu3eE2m"
      },
      "source": [
        "Let's execute this optimization to see the values for the jump component calibration:"
      ]
    },
    {
      "cell_type": "code",
      "execution_count": null,
      "metadata": {
        "id": "2BuYSwoTdoYw",
        "colab": {
          "base_uri": "https://localhost:8080/"
        },
        "outputId": "c2fd3bd2-4e55-40d9-eb6c-6edd7e63e323"
      },
      "outputs": [
        {
          "output_type": "stream",
          "name": "stdout",
          "text": [
            "Calibrating Jump Component Parameters...\n",
            "\n",
            "   0 | [ 0.  -0.5  0. ] |  21.655 |  21.655\n",
            "  25 | [ 0.2  -0.5   0.25] |   7.212 |   6.770\n",
            "  50 | [ 0.4 -0.5  0.5] |   0.546 |   0.546\n",
            "  75 | [ 0.5   -0.3    0.525] |   0.409 |   0.409\n",
            " 100 | [ 0.31172649 -0.18897691  0.78912704] |   0.233 |   0.190\n",
            " 125 | [ 0.14811463 -0.02187268  1.09899501] |   0.123 |   0.123\n",
            " 150 | [ 0.13639421 -0.00125993  1.14308931] |   0.107 |   0.107\n",
            " 175 | [ 0.10977342 -0.00261998  1.25788301] |   0.099 |   0.098\n",
            " 200 | [ 0.09235368 -0.00775959  1.36181817] |   0.089 |   0.086\n",
            " 225 | [ 0.0637755  -0.01731065  1.56536779] |   0.076 |   0.075\n",
            " 250 | [ 0.04520465 -0.02806122  1.74357917] |   0.068 |   0.068\n",
            " 275 | [ 0.03754922 -0.0328925   1.84203415] |   0.063 |   0.063\n",
            " 300 | [ 0.02980243 -0.03782095  1.95299434] |   0.059 |   0.059\n",
            " 325 | [ 0.02331164 -0.04183935  2.07044522] |   0.056 |   0.055\n",
            " 350 | [ 0.01722197 -0.04511209  2.20219383] |   0.054 |   0.053\n",
            " 375 | [ 0.01518956 -0.04534735  2.25836416] |   0.052 |   0.052\n",
            " 400 | [ 0.01295363 -0.04535695  2.32373545] |   0.052 |   0.051\n",
            " 425 | [ 0.01110508 -0.04465979  2.38775794] |   0.050 |   0.050\n",
            " 450 | [ 0.00974838 -0.04361771  2.44088296] |   0.049 |   0.049\n",
            " 475 | [ 0.00837256 -0.0419825   2.50145871] |   0.048 |   0.048\n",
            " 500 | [ 0.00710334 -0.03986414  2.56426781] |   0.047 |   0.047\n",
            " 525 | [ 0.00626743 -0.03784723  2.61092827] |   0.047 |   0.047\n",
            " 550 | [ 0.00570194 -0.03609297  2.64559654] |   0.047 |   0.047\n",
            " 575 | [ 0.00516165 -0.03419167  2.68221771] |   0.046 |   0.046\n",
            " 600 | [ 0.00458034 -0.03203652  2.72486061] |   0.046 |   0.046\n",
            " 625 | [ 0.00395361 -0.02975614  2.77598222] |   0.046 |   0.046\n",
            " 650 | [ 0.00368448 -0.02865323  2.80113947] |   0.046 |   0.046\n",
            " 675 | [ 0.00321318 -0.02645177  2.84791979] |   0.046 |   0.045\n",
            " 700 | [ 0.00297094 -0.02531843  2.87543715] |   0.045 |   0.045\n",
            " 725 | [ 2.71074299e-03 -2.41940517e-02  2.90652776e+00] |   0.045 |   0.045\n",
            " 750 | [ 2.52436429e-03 -2.34324375e-02  2.93097995e+00] |   0.045 |   0.045\n",
            " 775 | [ 2.32546119e-03 -2.26456045e-02  2.95805174e+00] |   0.045 |   0.045\n",
            " 800 | [ 2.10646414e-03 -2.17839028e-02  2.99089420e+00] |   0.045 |   0.045\n"
          ]
        },
        {
          "output_type": "stream",
          "name": "stderr",
          "text": [
            "/tmp/ipython-input-162-2318630450.py:20: RuntimeWarning: Maximum number of function evaluations has been exceeded.\n",
            "  opt2 = fmin(\n"
          ]
        }
      ],
      "source": [
        "print(\"Calibrating Jump Component Parameters...\\n\")\n",
        "params = B96_calibration_short()"
      ]
    },
    {
      "cell_type": "code",
      "execution_count": null,
      "metadata": {
        "id": "bmDJg6PpfNGM",
        "colab": {
          "base_uri": "https://localhost:8080/"
        },
        "outputId": "961edbe6-8bfe-4e6e-d985-ac800ab7e355"
      },
      "outputs": [
        {
          "output_type": "execute_result",
          "data": {
            "text/plain": [
              "array([ 2.05260318e-03, -2.15417466e-02,  2.99945930e+00])"
            ]
          },
          "metadata": {},
          "execution_count": 164
        }
      ],
      "source": [
        "params"
      ]
    },
    {
      "cell_type": "code",
      "execution_count": null,
      "metadata": {
        "id": "9E0WCQF3fSsk"
      },
      "outputs": [],
      "source": [
        "lamb = 0.002\n",
        "mu = -0.0215\n",
        "delta = 2.999"
      ]
    },
    {
      "cell_type": "markdown",
      "metadata": {
        "id": "9U6G1lvYfrlO"
      },
      "source": [
        "calibrating the jump component yields:(note that these would slightly change upon small twitches of the code):\n",
        "\n",
        "- $\\lambda = 0.002$\n",
        "- $\\mu = -0.00115$\n",
        "- $\\delta = 3.999$"
      ]
    },
    {
      "cell_type": "markdown",
      "metadata": {
        "id": "E2oBXZNbgIF6"
      },
      "source": [
        "### Model vs. Market prices after jump calibration\n",
        "\n",
        "For that, we first create a function that yields the model values under the different parameters obtained in the calibration process:"
      ]
    },
    {
      "cell_type": "code",
      "execution_count": null,
      "metadata": {
        "id": "rrnUDUmmfqTC"
      },
      "outputs": [],
      "source": [
        "def B96_jump_calculate_model_values(p0):\n",
        "    \"\"\"Calculates all model values given parameter vector p0.\"\"\"\n",
        "    lamb, mu, delta = p0\n",
        "    values = []\n",
        "    for row, option in options.iterrows():\n",
        "        T = (maturity_days / trading_days)\n",
        "        r = 0.02\n",
        "        model_value = B96_call_value(\n",
        "            S0,\n",
        "            option[\"Strike\"],\n",
        "            T,\n",
        "            r,\n",
        "            kappa_v,\n",
        "            theta_v,\n",
        "            sigma_v,\n",
        "            rho,\n",
        "            v0,\n",
        "            lamb,\n",
        "            mu,\n",
        "            delta,\n",
        "        )\n",
        "        values.append(model_value)\n",
        "    return np.array(values)"
      ]
    },
    {
      "cell_type": "markdown",
      "metadata": {
        "id": "AhQ5NQcvglS6"
      },
      "source": [
        "Next, let's create another to plot the results:"
      ]
    },
    {
      "cell_type": "code",
      "execution_count": null,
      "metadata": {
        "id": "x9s6dhNXgt1t"
      },
      "outputs": [],
      "source": [
        "def plot_calibration_results(p0):\n",
        "    options[\"Model\"] = B96_jump_calculate_model_values(p0)\n",
        "    plt.figure(figsize=(8, 6))\n",
        "    plt.subplot(211)\n",
        "    plt.grid()\n",
        "    plt.title(\"Days to maturity %s\" % str(options[\"Days to maturity\"].iloc[0])[:10])\n",
        "    plt.ylabel(\"option values\")\n",
        "    plt.plot(options.Strike, options.Call, \"b\", label=\"market\")\n",
        "    plt.plot(options.Strike, options.Model, \"ro\", label=\"model\")\n",
        "    plt.legend(loc=0)\n",
        "    plt.axis(\n",
        "        [\n",
        "            min(options.Strike) - 10,\n",
        "            max(options.Strike) + 10,\n",
        "            min(options.Call) - 10,\n",
        "            max(options.Call) + 10,\n",
        "        ]\n",
        "    )\n",
        "    plt.subplot(212)\n",
        "    plt.grid()\n",
        "    wi = 0.5\n",
        "    diffs = options.Model.values - options.Call.values\n",
        "    plt.bar(options.Strike.values - wi / 2, diffs, width=wi)\n",
        "    plt.ylabel(\"difference\")\n",
        "    plt.axis(\n",
        "        [\n",
        "            min(options.Strike) - 10,\n",
        "            max(options.Strike) + 10,\n",
        "            min(diffs) * 1.1,\n",
        "            max(diffs) * 1.1,\n",
        "        ]\n",
        "    )\n",
        "    plt.tight_layout()"
      ]
    },
    {
      "cell_type": "code",
      "execution_count": null,
      "metadata": {
        "id": "e1roFItFgzRD",
        "colab": {
          "base_uri": "https://localhost:8080/",
          "height": 596
        },
        "outputId": "11cff048-5670-41fc-c839-44ec0ed48ce2"
      },
      "outputs": [
        {
          "output_type": "display_data",
          "data": {
            "text/plain": [
              "<Figure size 800x600 with 2 Axes>"
            ],
            "image/png": "[encoded data removed]"
          },
          "metadata": {}
        }
      ],
      "source": [
        "plot_calibration_results(params)"
      ]
    },
    {
      "cell_type": "code",
      "execution_count": null,
      "metadata": {
        "id": "_A9Zcg7wg5B6"
      },
      "outputs": [],
      "source": [
        "p0 = [kappa_v, theta_v, sigma_v, rho, v0, lamb, mu, delta]"
      ]
    },
    {
      "cell_type": "markdown",
      "metadata": {
        "id": "VMcMauxgg7rn"
      },
      "source": [
        "## 3. Full Bates (1996) model calibration\n",
        "\n",
        "Now, we can build up a *B96_full_error_function* that essentially takes these inputs and calculate the error function. Note that here we do not impose any penalties on the error function, as it solved an inherent problem of the jump diffusion model that should be already solved by using the initial inputs from the jump component calibration."
      ]
    },
    {
      "cell_type": "code",
      "execution_count": null,
      "metadata": {
        "id": "AEL_AZUkg_95"
      },
      "outputs": [],
      "source": [
        "i = 0\n",
        "min_MSE = 5000.0\n",
        "\n",
        "\n",
        "def B96_full_error_function(p0):\n",
        "    global i, min_MSE\n",
        "    kappa_v, theta_v, sigma_v, rho, v0, lamb, mu, delta = p0\n",
        "\n",
        "    if (\n",
        "        kappa_v < 0.0\n",
        "        or theta_v < 0.005\n",
        "        or sigma_v < 0.0\n",
        "        or rho < -1.0\n",
        "        or rho > 1.0\n",
        "        or v0 < 0.0\n",
        "        or lamb < 0.0\n",
        "        or mu < -0.6\n",
        "        or mu > 0.0\n",
        "        or delta < 0.0\n",
        "    ):\n",
        "        return 5000.0\n",
        "\n",
        "    if 2 * kappa_v * theta_v < sigma_v**2:\n",
        "        return 5000.0\n",
        "\n",
        "    se = []\n",
        "    for row, option in options.iterrows():\n",
        "        model_value = B96_call_value(\n",
        "            S0,\n",
        "            option[\"Strike\"],\n",
        "            option[\"T\"],\n",
        "            option[\"r\"],\n",
        "            kappa_v,\n",
        "            theta_v,\n",
        "            sigma_v,\n",
        "            rho,\n",
        "            v0,\n",
        "            lamb,\n",
        "            mu,\n",
        "            delta,\n",
        "        )\n",
        "        se.append((model_value - option[\"Call\"]) ** 2)\n",
        "\n",
        "    MSE = sum(se) / len(se)\n",
        "    min_MSE = min(min_MSE, MSE)\n",
        "    if i % 25 == 0:\n",
        "        print(\"%4d |\" % i, np.array(p0), \"| %7.3f | %7.3f\" % (MSE, min_MSE))\n",
        "    i += 1\n",
        "    return MSE"
      ]
    },
    {
      "cell_type": "code",
      "execution_count": null,
      "metadata": {
        "id": "GzryZv1mhD4b"
      },
      "outputs": [],
      "source": [
        "def B96_calibration_full():\n",
        "    opt = fmin(\n",
        "        B96_full_error_function, p0, xtol=0.001, ftol=0.001, maxiter=1250, maxfun=650\n",
        "    )\n",
        "    return opt"
      ]
    },
    {
      "cell_type": "code",
      "execution_count": null,
      "metadata": {
        "id": "GzGDpYbphGqS"
      },
      "outputs": [],
      "source": [
        "def B96_calculate_model_values(p0):\n",
        "    kappa_v, theta_v, sigma_v, rho, v0, lamb, mu, delta = p0\n",
        "    values = []\n",
        "    for row, option in options.iterrows():\n",
        "        model_value = B96_call_value(\n",
        "            S0,\n",
        "            option[\"Strike\"],\n",
        "            option[\"T\"],\n",
        "            option[\"r\"],\n",
        "            kappa_v,\n",
        "            theta_v,\n",
        "            sigma_v,\n",
        "            rho,\n",
        "            v0,\n",
        "            lamb,\n",
        "            mu,\n",
        "            delta,\n",
        "        )\n",
        "\n",
        "        values.append(model_value)\n",
        "\n",
        "    return np.array(values)"
      ]
    },
    {
      "cell_type": "code",
      "execution_count": null,
      "metadata": {
        "id": "ZXJiMX-DhKDQ",
        "colab": {
          "base_uri": "https://localhost:8080/"
        },
        "outputId": "8003ccfd-009c-4d44-97b4-afd96d41e614"
      },
      "outputs": [
        {
          "output_type": "stream",
          "name": "stdout",
          "text": [
            "Calibrating full Parameters...\n",
            "\n",
            "   0 | [ 2.0000e+01  5.2000e-02  1.1458e+00 -1.0000e+00  1.4280e-01  2.0000e-03\n",
            " -2.1500e-02  2.9990e+00] |   0.065 |   0.065\n",
            "  25 | [ 2.02886520e+01  5.31389717e-02  1.14361202e+00 -9.95296250e-01\n",
            "  1.45927792e-01  2.04380660e-03 -2.18197491e-02  3.00558417e+00] |   0.090 |   0.049\n",
            "  50 | [ 2.12876250e+01  4.58203237e-02  1.12509933e+00 -9.86397357e-01\n",
            "  1.37473889e-01  2.10823002e-03 -2.24832020e-02  3.01900232e+00] |   0.025 |   0.025\n",
            "  75 | [ 2.27854107e+01  3.81216359e-02  1.10958681e+00 -9.68592697e-01\n",
            "  1.16353743e-01  2.27418550e-03 -2.40533506e-02  3.04212237e+00] |   0.012 |   0.009\n",
            " 100 | [ 2.29996978e+01  3.71111410e-02  1.10582236e+00 -9.69174719e-01\n",
            "  1.21718268e-01  2.26890284e-03 -2.37201658e-02  3.04038619e+00] |   0.009 |   0.009\n",
            " 125 | [ 2.31305613e+01  3.65157828e-02  1.10327307e+00 -9.67853398e-01\n",
            "  1.20456402e-01  2.27780992e-03 -2.38608713e-02  3.04147812e+00] |   0.009 |   0.009\n",
            " 150 | [ 2.32238949e+01  3.70210962e-02  1.10113016e+00 -9.67563100e-01\n",
            "  1.17674013e-01  2.28031198e-03 -2.39471760e-02  3.04154518e+00] |   0.009 |   0.009\n",
            " 175 | [ 2.34765014e+01  3.94179411e-02  1.09485801e+00 -9.68712989e-01\n",
            "  1.07839900e-01  2.28551470e-03 -2.42709202e-02  3.03936188e+00] |   0.009 |   0.009\n",
            " 200 | [ 2.44427893e+01  4.71080944e-02  1.06880311e+00 -9.71496714e-01\n",
            "  7.56307687e-02  2.29856641e-03 -2.52727145e-02  3.03223576e+00] |   0.009 |   0.009\n",
            " 225 | [ 2.52093862e+01  4.99173872e-02  1.04889724e+00 -9.69659501e-01\n",
            "  6.08673782e-02  2.30361634e-03 -2.57714280e-02  3.02981707e+00] |   0.009 |   0.009\n",
            " 250 | [ 2.49550880e+01  4.83194465e-02  1.05587188e+00 -9.69646024e-01\n",
            "  6.73171958e-02  2.30514805e-03 -2.56217258e-02  3.03089555e+00] |   0.009 |   0.009\n",
            " 275 | [ 2.58098712e+01  5.20694123e-02  1.02943893e+00 -9.68145676e-01\n",
            "  4.97087403e-02  2.31184563e-03 -2.62570618e-02  3.02614029e+00] |   0.009 |   0.008\n",
            " 300 | [ 2.77574362e+01  5.83755544e-02  9.72511072e-01 -9.60717525e-01\n",
            "  1.62575684e-02  2.32252870e-03 -2.76387184e-02  3.01831680e+00] |   0.008 |   0.008\n",
            " 325 | [ 2.84400364e+01  5.94989879e-02  9.52308382e-01 -9.56449503e-01\n",
            "  9.40278849e-03  2.31703315e-03 -2.79473085e-02  3.01651608e+00] |   0.008 |   0.008\n",
            " 350 | [ 2.92205362e+01  6.12488441e-02  9.29222918e-01 -9.52072301e-01\n",
            "  3.41942895e-05  2.31046370e-03 -2.83268329e-02  3.01430265e+00] |   0.008 |   0.008\n",
            " 375 | [ 2.93060484e+01  6.09370681e-02  9.27556303e-01 -9.50380053e-01\n",
            "  3.98894756e-04  2.30900285e-03 -2.83702726e-02  3.01502312e+00] |   0.008 |   0.008\n",
            " 400 | [ 2.95823512e+01  6.06464917e-02  9.21662710e-01 -9.46623948e-01\n",
            "  3.37624037e-05  2.30014674e-03 -2.84283514e-02  3.01653872e+00] |   0.008 |   0.008\n",
            " 425 | [ 2.96197196e+01  6.06079899e-02  9.21112946e-01 -9.46068150e-01\n",
            "  8.31221103e-05  2.29766293e-03 -2.84190100e-02  3.01691646e+00] |   0.008 |   0.008\n",
            " 450 | [ 3.01849165e+01  6.02123962e-02  9.11075143e-01 -9.38476486e-01\n",
            "  9.19167587e-05  2.26985188e-03 -2.83811107e-02  3.02060177e+00] |   0.008 |   0.008\n",
            " 475 | [ 3.09562475e+01  6.02053158e-02  8.98787795e-01 -9.28890094e-01\n",
            "  1.37383795e-03  2.21452149e-03 -2.80513888e-02  3.02569319e+00] |   0.008 |   0.008\n",
            " 500 | [ 3.16548453e+01  6.02426922e-02  8.88208277e-01 -9.20183310e-01\n",
            "  2.34403541e-03  2.16204730e-03 -2.77281038e-02  3.03080976e+00] |   0.008 |   0.008\n",
            " 525 | [ 3.21780151e+01  6.05426260e-02  8.82179188e-01 -9.13897193e-01\n",
            "  3.23183686e-03  2.11158100e-03 -2.73261490e-02  3.03568420e+00] |   0.008 |   0.008\n",
            " 550 | [ 3.29171296e+01  6.03877257e-02  8.73068972e-01 -9.03801667e-01\n",
            "  3.33934400e-03  2.05127307e-03 -2.69820724e-02  3.04385321e+00] |   0.008 |   0.008\n",
            " 575 | [ 3.39161318e+01  5.97493779e-02  8.62011868e-01 -8.88856215e-01\n",
            "  3.62296431e-03  1.96847120e-03 -2.65546713e-02  3.05690482e+00] |   0.008 |   0.008\n",
            " 600 | [ 3.36600822e+01  5.97501221e-02  8.65423393e-01 -8.92259268e-01\n",
            "  2.55814807e-03  1.99110453e-03 -2.67226427e-02  3.05489922e+00] |   0.008 |   0.008\n"
          ]
        },
        {
          "output_type": "stream",
          "name": "stderr",
          "text": [
            "/tmp/ipython-input-171-3962071003.py:2: RuntimeWarning: Maximum number of function evaluations has been exceeded.\n",
            "  opt = fmin(\n"
          ]
        }
      ],
      "source": [
        "print(\"Calibrating full Parameters...\\n\")\n",
        "full_params = B96_calibration_full()"
      ]
    },
    {
      "cell_type": "code",
      "execution_count": null,
      "metadata": {
        "id": "8Erg2rWyhPfR",
        "colab": {
          "base_uri": "https://localhost:8080/"
        },
        "outputId": "16f838eb-2b9e-42cb-8380-a573de32e92f"
      },
      "outputs": [
        {
          "output_type": "execute_result",
          "data": {
            "text/plain": [
              "array([ 3.45290408e+01,  5.98113168e-02,  8.55884509e-01, -8.80619622e-01,\n",
              "        2.10910087e-03,  1.91051090e-03, -2.62070038e-02,  3.06592535e+00])"
            ]
          },
          "metadata": {},
          "execution_count": 174
        }
      ],
      "source": [
        "full_params"
      ]
    },
    {
      "cell_type": "code",
      "execution_count": null,
      "metadata": {
        "id": "z21CVkIPhuuX"
      },
      "outputs": [],
      "source": []
    },
    {
      "cell_type": "markdown",
      "metadata": {
        "id": "2HTDXzjwhefe"
      },
      "source": [
        "Which basically yields (note that these would slightly change upon small twitches of the code):\n",
        "\n",
        "- $\\kappa_\\nu = 4.2516$\n",
        "- $\\theta_\\nu = 0.0269$\n",
        "- $\\sigma_\\nu = 0.256$\n",
        "- $\\rho =  -0.991$\n",
        "- $\\nu_0 = 0.0647$\n",
        "- $\\lambda = 0.0077$\n",
        "- $\\mu = -0.016$\n",
        "- $\\delta = 2.587$\n",
        "\n",
        "\n",
        "## Market vs. Model prices in full calibration\n",
        "\n",
        "As before, let's see what are the differences that our model produces using the parameters resulting from calibration, and compare those to observed market prices:"
      ]
    },
    {
      "cell_type": "code",
      "execution_count": null,
      "metadata": {
        "id": "_kDVwWljhdkM"
      },
      "outputs": [],
      "source": [
        "def plot_full_calibration_results(p0):\n",
        "    options[\"Model\"] = B96_calculate_model_values(p0)\n",
        "    plt.figure(figsize=(8, 6))\n",
        "    plt.subplot(211)\n",
        "    plt.grid()\n",
        "    plt.title(\"Days to maturity %s\" % str(options[\"Days to maturity\"].iloc[0])[:10])\n",
        "    plt.ylabel(\"option values\")\n",
        "    plt.plot(options.Strike, options.Call, \"b\", label=\"market\")\n",
        "    plt.plot(options.Strike, options.Model, \"ro\", label=\"model\")\n",
        "    plt.legend(loc=0)\n",
        "    plt.axis(\n",
        "        [\n",
        "            min(options.Strike) - 10,\n",
        "            max(options.Strike) + 10,\n",
        "            min(options.Call) - 10,\n",
        "            max(options.Call) + 10,\n",
        "        ]\n",
        "    )\n",
        "    plt.subplot(212)\n",
        "    plt.grid()\n",
        "    wi = 0.5\n",
        "    diffs = options.Model.values - options.Call.values\n",
        "    plt.bar(options.Strike.values - wi / 2, diffs, width=wi)\n",
        "    plt.ylabel(\"difference\")\n",
        "    plt.axis(\n",
        "        [\n",
        "            min(options.Strike) - 10,\n",
        "            max(options.Strike) + 10,\n",
        "            min(diffs) * 1.1,\n",
        "            max(diffs) * 1.1,\n",
        "        ]\n",
        "    )\n",
        "    plt.tight_layout()"
      ]
    },
    {
      "cell_type": "code",
      "execution_count": null,
      "metadata": {
        "id": "x3-Qhr_1h4My",
        "colab": {
          "base_uri": "https://localhost:8080/",
          "height": 596
        },
        "outputId": "11a9ce5a-662c-436e-841a-e4094a81f341"
      },
      "outputs": [
        {
          "output_type": "display_data",
          "data": {
            "text/plain": [
              "<Figure size 800x600 with 2 Axes>"
            ],
            "image/png": "[encoded data removed]"
          },
          "metadata": {}
        }
      ],
      "source": [
        "plot_full_calibration_results(full_params)"
      ]
    },
    {
      "cell_type": "markdown",
      "metadata": {
        "id": "Qtww5PbLh-9I"
      },
      "source": [
        "As you can see, the model does a better job in terms of fitting the observed option market prices after the full calibration process."
      ]
    },
    {
      "cell_type": "markdown",
      "metadata": {
        "id": "qOaWbLGkfRzA"
      },
      "source": []
    },
    {
      "cell_type": "markdown",
      "metadata": {
        "id": "TaPVBtr9DPAq"
      },
      "source": [
        "# Min Cheung"
      ]
    },
    {
      "cell_type": "markdown",
      "metadata": {
        "id": "8Kpm8DsBAYiM"
      },
      "source": [
        "## **STEP 2B**\n"
      ]
    },
    {
      "cell_type": "markdown",
      "metadata": {
        "id": "f8dbe501"
      },
      "source": [
        "## Step 2, Task a (revisited): Calibrating Bates (1996) Model for 60-Day Maturity using Carr-Madan (1999)"
      ]
    },
    {
      "cell_type": "markdown",
      "metadata": {
        "id": "2f7d46b6"
      },
      "source": [
        "We will now calibrate the Bates (1996) jump-diffusion model to the market prices of options with a maturity close to 60 days using the **Carr-Madan (1999) approach**."
      ]
    },
    {
      "cell_type": "markdown",
      "metadata": {
        "id": "295c7e85"
      },
      "source": [
        "### Bates (1996) Characteristic Function (Carr-Madan)"
      ]
    },
    {
      "cell_type": "code",
      "execution_count": null,
      "metadata": {
        "id": "d3372bda"
      },
      "outputs": [],
      "source": [
        "# Bates (1996) characteristic function for Carr-Madan approach\n",
        "def B96_char_func_CM(u, T, r, kappa_v, theta_v, sigma_v, rho, v0, lamb, mu, delta):\n",
        "    \"\"\"\n",
        "    Bates (1996) characteristic function for Carr-Madan (1999) approach.\n",
        "    This is the same as the Lewis characteristic function since the jump component is multiplicative.\n",
        "    \"\"\"\n",
        "    H93 = H93_char_func(u, T, r, kappa_v, theta_v, sigma_v, rho, v0)\n",
        "    M76J = M76J_char_func(u, T, lamb, mu, delta)\n",
        "    return H93 * M76J"
      ]
    },
    {
      "cell_type": "markdown",
      "metadata": {
        "id": "89b29285"
      },
      "source": [
        "### Bates (1996) Call Option Pricing (Carr-Madan)"
      ]
    },
    {
      "cell_type": "code",
      "execution_count": null,
      "metadata": {
        "id": "5c943806"
      },
      "outputs": [],
      "source": [
        "def B96_Call_FFT(S0, K, T, r, kappa_v, theta_v, sigma_v, rho, v0, lamb, mu, delta):\n",
        "    \"\"\"\n",
        "    Call option price in Bates (1996) under FFT (Carr-Madan 1999).\n",
        "    \"\"\"\n",
        "\n",
        "    k = np.log(K / S0)\n",
        "    g = 1  # Factor to increase accuracy\n",
        "    N = g * 4096\n",
        "    eps = (g * 150) ** -1\n",
        "    eta = 2 * np.pi / (N * eps)\n",
        "    b = 0.5 * N * eps - k\n",
        "    u = np.arange(1, N + 1, 1)\n",
        "    vo = eta * (u - 1)\n",
        "\n",
        "    # Modifications to ensure integrability\n",
        "    if S0 >= 0.95 * K:  # ITM Case (using adjusted alpha based on Lewis 2001 suggestion)\n",
        "        alpha = 1.5\n",
        "        v = vo - (alpha + 1) * 1j\n",
        "        modcharFunc = np.exp(-r * T) * (\n",
        "            B96_char_func_CM(v, T, r, kappa_v, theta_v, sigma_v, rho, v0, lamb, mu, delta)\n",
        "            / (alpha**2 + alpha - vo**2 + 1j * (2 * alpha + 1) * vo)\n",
        "        )\n",
        "\n",
        "    else: # OTM Case (using adjusted alpha based on Lewis 2001 suggestion)\n",
        "        alpha = 1.1\n",
        "        v = (vo - 1j * alpha) - 1j\n",
        "        modcharFunc1 = np.exp(-r * T) * (\n",
        "            1 / (1 + 1j * (vo - 1j * alpha))\n",
        "            - np.exp(r * T) / (1j * (vo - 1j * alpha))\n",
        "            - B96_char_func_CM(\n",
        "                v, T, r, kappa_v, theta_v, sigma_v, rho, v0, lamb, mu, delta\n",
        "            )\n",
        "            / ((vo - 1j * alpha) ** 2 - 1j * (vo - 1j * alpha))\n",
        "        )\n",
        "\n",
        "        v = (vo + 1j * alpha) - 1j\n",
        "\n",
        "        modcharFunc2 = np.exp(-r * T) * (\n",
        "            1 / (1 + 1j * (vo + 1j * alpha))\n",
        "            - np.exp(r * T) / (1j * (vo + 1j * alpha))\n",
        "            - B96_char_func_CM(\n",
        "                v, T, r, kappa_v, theta_v, sigma_v, rho, v0, lamb, mu, delta\n",
        "            )\n",
        "            / ((vo + 1j * alpha) ** 2 - 1j * (vo + 1j * alpha))\n",
        "        )\n",
        "\n",
        "    # Numerical FFT Routine\n",
        "    delt = np.zeros(N)\n",
        "    delt[0] = 1\n",
        "    j = np.arange(1, N + 1, 1)\n",
        "    SimpsonW = (3 + (-1) ** j - delt) / 3\n",
        "    if S0 >= 0.95 * K:\n",
        "        FFTFunc = np.exp(1j * b * vo) * modcharFunc * eta * SimpsonW\n",
        "        payoff = (np.fft.fft(FFTFunc)).real\n",
        "        CallValueM = np.exp(-alpha * k) / np.pi * payoff\n",
        "    else:\n",
        "        FFTFunc = (\n",
        "            np.exp(1j * b * vo) * (modcharFunc1 - modcharFunc2) * 0.5 * eta * SimpsonW\n",
        "        )\n",
        "        payoff = (np.fft.fft(FFTFunc)).real\n",
        "        CallValueM = payoff / (np.sinh(alpha * k) * np.pi)\n",
        "\n",
        "\n",
        "    pos = int((k + b) / eps)\n",
        "    CallValue = CallValueM[pos] * S0\n",
        "\n",
        "    return CallValue"
      ]
    },
    {
      "cell_type": "markdown",
      "metadata": {
        "id": "9552c876"
      },
      "source": [
        "### Error Function for Carr-Madan Calibration"
      ]
    },
    {
      "cell_type": "code",
      "execution_count": null,
      "metadata": {
        "id": "b76cfaa7"
      },
      "outputs": [],
      "source": [
        "i_cm = 0\n",
        "min_MSE_cm = 5000.0\n",
        "\n",
        "def B96_FFT_error_function(p0):\n",
        "    \"\"\"\n",
        "    Error function for parameter calibration of Bates (1996) via Carr-Madan (1999).\n",
        "\n",
        "    Parameters\n",
        "    ==========\n",
        "    p0: tuple or list\n",
        "        (kappa_v, theta_v, sigma_v, rho, v0, lamb, mu, delta)\n",
        "\n",
        "    Returns\n",
        "    =======\n",
        "    MSE: float\n",
        "        mean squared error\n",
        "    \"\"\"\n",
        "    global i_cm, min_MSE_cm\n",
        "    kappa_v, theta_v, sigma_v, rho, v0, lamb, mu, delta = p0\n",
        "\n",
        "    # Parameter constraints (similar to Heston calibration)\n",
        "    if kappa_v < 0.0 or theta_v < 0.005 or sigma_v < 0.0 or rho < -1.0 or rho > 1.0 or v0 < 0.0:\n",
        "        return 5000.0\n",
        "    # Feller condition for Heston part\n",
        "    if 2 * kappa_v * theta_v < sigma_v**2:\n",
        "         return 5000.0\n",
        "    # Jump parameter constraints\n",
        "    if lamb < 0.0 or mu < -0.6 or mu > 0.0 or delta < 0.0:\n",
        "        return 5000.0\n",
        "\n",
        "\n",
        "    se = []\n",
        "    # Use the 60-day calibration data\n",
        "    for row, option in options.iterrows():\n",
        "        try:\n",
        "            model_value = B96_Call_FFT(\n",
        "                S0,\n",
        "                option[\"Strike\"],\n",
        "                option[\"T\"],\n",
        "                option[\"r\"],\n",
        "                kappa_v,\n",
        "                theta_v,\n",
        "                sigma_v,\n",
        "                rho,\n",
        "                v0,\n",
        "                lamb,\n",
        "                mu,\n",
        "                delta,\n",
        "            )\n",
        "            # Check for NaN or Inf results from the pricing function\n",
        "            if np.isnan(model_value) or np.isinf(model_value):\n",
        "                return 5000.0\n",
        "\n",
        "            se.append((model_value - option[\"Call\"]) ** 2)\n",
        "        except Exception as e:\n",
        "            # Return a large error if calculation fails for any reason\n",
        "            print(f\"Pricing failed for strike {option['Strike']}, maturity {option['T']}: {e}\")\n",
        "            return 5000.0\n",
        "\n",
        "\n",
        "    MSE = sum(se) / len(se)\n",
        "    min_MSE_cm = min(min_MSE_cm, MSE)\n",
        "    if i_cm % 25 == 0:\n",
        "        print(\"%4d |\" % i_cm, np.array(p0), \"| %7.3f | %7.3f\" % (MSE, min_MSE_cm))\n",
        "    i_cm += 1\n",
        "    return MSE"
      ]
    },
    {
      "cell_type": "markdown",
      "metadata": {
        "id": "1c25d432"
      },
      "source": [
        "### Calibration Process (Brute Force + Local Optimization)"
      ]
    },
    {
      "cell_type": "code",
      "execution_count": null,
      "metadata": {
        "id": "536d0563"
      },
      "outputs": [],
      "source": [
        "def B96_FFT_calibration_full():\n",
        "    \"\"\"\n",
        "    Calibrates Bates (1996) model using Carr-Madan FFT approach.\n",
        "    \"\"\"\n",
        "    # Stage 1: Brute-force global search\n",
        "    print(\"\\n--- Stage 1: Starting Brute-Force Global Search (Bates FFT) ---\")\n",
        "    # Define parameter ranges: (kappa_v, theta_v, sigma_v, rho, v0, lamb, mu, delta)\n",
        "    ranges = (\n",
        "        (0.1, 20.0, 10.0),  # kappa_v - Increased step size\n",
        "        (0.005, 0.1, 0.05), # theta_v - Increased step size\n",
        "        (0.01, 1.0, 0.5),  # sigma_v - Increased step size\n",
        "        (-0.9, -0.1, 0.4),  # rho - Increased step size\n",
        "        (0.005, 0.1, 0.05), # v0 - Increased step size\n",
        "        (0.0, 1.0, 0.5), # lamb - Increased step size\n",
        "        (-0.5, -0.01, 0.2), # mu - Increased step size\n",
        "        (0.01, 3.0, 1.0) # delta - Increased step size\n",
        "    )\n",
        "\n",
        "    initial_params_from_brute = brute(\n",
        "        B96_FFT_error_function,\n",
        "        ranges,\n",
        "        finish=None\n",
        "    )\n",
        "\n",
        "    print(\"--- Brute-Force Search Complete ---\")\n",
        "    print(f\"Best parameters from brute-force search: {initial_params_from_brute}\")\n",
        "\n",
        "    # Stage 2: Local refinement using the result from Stage 1\n",
        "    print(\"\\n--- Stage 2: Starting Local Refinement (Nelder-Mead) ---\")\n",
        "    # result = minimize(\n",
        "    #     B96_FFT_error_function,\n",
        "    #     initial_params_from_brute,\n",
        "    #     method='Nelder-Mead', # Using Nelder-Mead as it's less sensitive to initial guess\n",
        "    #     options={'maxiter': 550, 'disp': True, 'adaptive': True},\n",
        "    #     tol=1e-6\n",
        "    # )\n",
        "\n",
        "    result = fmin(\n",
        "        B96_FFT_error_function,\n",
        "        initial_params_from_brute,\n",
        "        xtol=0.0000001,\n",
        "        ftol=0.0000001,\n",
        "        maxiter=550,\n",
        "        maxfun=750,\n",
        "        # full_output=True,\n",
        "        # disp=True,\n",
        "\n",
        "    )\n",
        "\n",
        "    # return result.x\n",
        "    return result"
      ]
    },
    {
      "cell_type": "code",
      "execution_count": null,
      "metadata": {
        "id": "ttWFuSfp5ty_"
      },
      "outputs": [],
      "source": [
        "def M76J_char_func(u, T, lamb, mu, delta):\n",
        "    \"\"\"\n",
        "    Adjusted Characteristic function for Merton '76 model: Only jump component\n",
        "    \"\"\"\n",
        "\n",
        "    omega = -lamb * (np.exp(mu + 0.5 * delta**2) - 1)\n",
        "    char_func_value = np.exp(\n",
        "        (1j * u * omega + lamb * (np.exp(1j * u * mu - u**2 * delta**2 * 0.5) - 1))\n",
        "        * T\n",
        "    )\n",
        "    return char_func_value"
      ]
    },
    {
      "cell_type": "code",
      "execution_count": null,
      "metadata": {
        "colab": {
          "base_uri": "https://localhost:8080/"
        },
        "collapsed": true,
        "id": "cce7a83c",
        "outputId": "afc326dc-73b4-4a89-ab45-65cbca6713c7"
      },
      "outputs": [
        {
          "output_type": "stream",
          "name": "stdout",
          "text": [
            "Calibrating Bates (1996) Model using Carr-Madan FFT for 60-day maturity...\n",
            "\n",
            "\n",
            "--- Stage 1: Starting Brute-Force Global Search (Bates FFT) ---\n",
            "   0 | [ 0.1    0.005  0.01  -0.9    0.005  0.    -0.5    0.01 ] | 165.992 | 165.992\n"
          ]
        },
        {
          "output_type": "stream",
          "name": "stderr",
          "text": [
            "/tmp/ipython-input-181-1436137524.py:7: RuntimeWarning: overflow encountered in exp\n",
            "  char_func_value = np.exp(\n",
            "/tmp/ipython-input-177-1827447787.py:9: RuntimeWarning: invalid value encountered in multiply\n",
            "  return H93 * M76J\n",
            "/tmp/ipython-input-178-1096897741.py:20: RuntimeWarning: invalid value encountered in divide\n",
            "  B96_char_func_CM(v, T, r, kappa_v, theta_v, sigma_v, rho, v0, lamb, mu, delta)\n"
          ]
        },
        {
          "output_type": "stream",
          "name": "stdout",
          "text": [
            "  25 | [ 0.1    0.005  0.01  -0.9    0.055  0.5   -0.5    1.01 ] |  13.562 |   0.892\n",
            "  50 | [ 0.1    0.005  0.01  -0.5    0.055  0.    -0.3    2.01 ] |  31.729 |   0.875\n",
            "  75 | [ 0.1    0.055  0.01  -0.9    0.055  0.    -0.5    0.01 ] |  31.099 |   0.675\n",
            " 100 | [ 0.1    0.055  0.01  -0.5    0.005  0.5   -0.5    1.01 ] |   7.248 |   0.675\n",
            " 125 | [ 1.01e+01  5.00e-03  1.00e-02 -9.00e-01  5.00e-03  0.00e+00 -3.00e-01\n",
            "  2.01e+00] | 165.983 |   0.661\n",
            " 150 | [ 1.01e+01  5.00e-03  1.00e-02 -5.00e-01  5.00e-03  0.00e+00 -5.00e-01\n",
            "  1.00e-02] | 165.982 |   0.365\n",
            " 175 | [ 1.01e+01  5.00e-03  1.00e-02 -5.00e-01  5.50e-02  5.00e-01 -5.00e-01\n",
            "  1.01e+00] |   0.364 |   0.364\n",
            " 200 | [ 1.01e+01  5.50e-02  1.00e-02 -9.00e-01  5.50e-02  0.00e+00 -3.00e-01\n",
            "  2.01e+00] |  31.084 |   0.364\n",
            " 225 | [ 1.01e+01  5.50e-02  1.00e-02 -5.00e-01  5.50e-02  0.00e+00 -5.00e-01\n",
            "  1.00e-02] |  31.077 |   0.364\n",
            " 250 | [ 1.01e+01  5.50e-02  5.10e-01 -9.00e-01  5.00e-03  5.00e-01 -5.00e-01\n",
            "  1.01e+00] |   3.293 |   0.364\n",
            " 275 | [ 1.01e+01  5.50e-02  5.10e-01 -5.00e-01  5.00e-03  0.00e+00 -3.00e-01\n",
            "  2.01e+00] |  59.523 |   0.364\n",
            "--- Brute-Force Search Complete ---\n",
            "Best parameters from brute-force search: [ 1.01e+01  5.00e-03  1.00e-02 -5.00e-01  5.50e-02  5.00e-01 -5.00e-01\n",
            "  1.01e+00]\n",
            "\n",
            "--- Stage 2: Starting Local Refinement (Nelder-Mead) ---\n",
            " 300 | [ 1.01e+01  5.00e-03  1.00e-02 -5.00e-01  5.50e-02  5.00e-01 -5.00e-01\n",
            "  1.01e+00] |   0.364 |   0.364\n",
            " 325 | [ 1.01901518e+01  5.04321676e-03  1.00442325e-02 -5.00714950e-01\n",
            "  5.48629242e-02  4.96392742e-01 -4.96291880e-01  9.96751526e-01] |   0.196 |   0.162\n",
            " 350 | [ 1.06211928e+01  5.14114452e-03  9.96489806e-03 -5.19272614e-01\n",
            "  5.29431216e-02  4.60585794e-01 -5.06733035e-01  1.04359587e+00] |   0.110 |   0.094\n",
            " 375 | [ 1.05081415e+01  5.14884886e-03  1.02170237e-02 -5.22065828e-01\n",
            "  5.26189266e-02  4.49651378e-01 -4.99219597e-01  1.05984154e+00] |   0.090 |   0.055\n",
            " 400 | [ 1.07738842e+01  5.17432215e-03  9.80574662e-03 -5.51897520e-01\n",
            "  5.24061277e-02  4.20361703e-01 -4.87203774e-01  1.11348620e+00] |   0.044 |   0.034\n",
            " 425 | [ 1.05722771e+01  5.12877720e-03  9.85172063e-03 -5.99034223e-01\n",
            "  4.90232257e-02  4.24049172e-01 -4.81564163e-01  1.13626336e+00] |   0.031 |   0.026\n",
            " 450 | [ 1.02281497e+01  5.06213775e-03  9.67680193e-03 -6.76076150e-01\n",
            "  4.43067673e-02  4.46347201e-01 -4.68561716e-01  1.14028581e+00] |   0.023 |   0.017\n",
            " 475 | [ 1.02043424e+01  5.05380407e-03  9.78356898e-03 -6.72225512e-01\n",
            "  4.42582799e-02  4.49203134e-01 -4.70605100e-01  1.13736912e+00] |   0.017 |   0.014\n",
            " 500 | [ 9.88055275e+00  5.02693348e-03  9.85450050e-03 -7.32392184e-01\n",
            "  3.82309485e-02  4.72805406e-01 -4.67635587e-01  1.13689172e+00] |   0.013 |   0.013\n",
            " 525 | [ 9.82353202e+00  5.01928385e-03  9.81787474e-03 -7.48904374e-01\n",
            "  3.69055397e-02  4.78383879e-01 -4.65268046e-01  1.13618663e+00] |   0.013 |   0.012\n",
            " 550 | [ 9.81054377e+00  5.02369980e-03  9.80143042e-03 -7.51861468e-01\n",
            "  3.65393889e-02  4.78341637e-01 -4.65190051e-01  1.13674743e+00] |   0.012 |   0.012\n",
            " 575 | [ 9.81803698e+00  5.02091766e-03  9.82335955e-03 -7.50172186e-01\n",
            "  3.67077800e-02  4.78472405e-01 -4.65434601e-01  1.13679731e+00] |   0.012 |   0.012\n",
            " 600 | [ 9.80903433e+00  5.01958249e-03  9.81355042e-03 -7.52469257e-01\n",
            "  3.65464745e-02  4.79224119e-01 -4.65018793e-01  1.13651021e+00] |   0.012 |   0.012\n",
            " 625 | [ 9.80410501e+00  5.01496887e-03  9.78989525e-03 -7.55199305e-01\n",
            "  3.65945263e-02  4.79721443e-01 -4.63739611e-01  1.13636826e+00] |   0.012 |   0.012\n",
            " 650 | [ 9.86494014e+00  5.00591495e-03  9.67458898e-03 -7.47046397e-01\n",
            "  3.85641831e-02  4.73624514e-01 -4.59997852e-01  1.13667511e+00] |   0.012 |   0.012\n",
            " 675 | [ 9.90242241e+00  5.00118894e-03  9.60949401e-03 -7.41478468e-01\n",
            "  3.97444887e-02  4.69888619e-01 -4.58033507e-01  1.13677492e+00] |   0.012 |   0.012\n",
            " 700 | [ 9.93511204e+00  5.00021190e-03  9.55967902e-03 -7.36956997e-01\n",
            "  4.05997533e-02  4.66908126e-01 -4.56729293e-01  1.13678591e+00] |   0.012 |   0.012\n",
            " 725 | [ 9.97361886e+00  5.00006161e-03  9.49571114e-03 -7.31695379e-01\n",
            "  4.15918377e-02  4.63231998e-01 -4.55160377e-01  1.13676272e+00] |   0.012 |   0.012\n",
            " 750 | [ 9.98036614e+00  5.00031543e-03  9.43533007e-03 -7.33382687e-01\n",
            "  4.17732151e-02  4.62282070e-01 -4.53497248e-01  1.13633327e+00] |   0.012 |   0.012\n",
            " 775 | [ 1.01350175e+01  5.00082409e-03  8.91819673e-03 -7.26132981e-01\n",
            "  4.58051950e-02  4.45951835e-01 -4.39798624e-01  1.13397196e+00] |   0.011 |   0.011\n",
            " 800 | [ 1.04000428e+01  5.00203978e-03  7.51585945e-03 -7.41126207e-01\n",
            "  5.28847282e-02  4.14799521e-01 -4.01518719e-01  1.12558085e+00] |   0.011 |   0.011\n",
            " 825 | [ 1.04696714e+01  5.00258231e-03  6.42382486e-03 -7.83679990e-01\n",
            "  5.49763674e-02  4.02243020e-01 -3.70677615e-01  1.11731712e+00] |   0.010 |   0.010\n",
            " 850 | [ 1.06085372e+01  5.00281327e-03  4.98783641e-03 -8.28682897e-01\n",
            "  5.89580027e-02  3.81601260e-01 -3.30425125e-01  1.10702615e+00] |   0.010 |   0.010\n",
            " 875 | [ 1.05562856e+01  5.00280060e-03  5.37835001e-03 -8.19712856e-01\n",
            "  5.75099580e-02  3.88457932e-01 -3.41267134e-01  1.10962566e+00] |   0.010 |   0.010\n",
            " 900 | [ 1.05477650e+01  5.00332507e-03  5.51640819e-03 -8.14369173e-01\n",
            "  5.72239895e-02  3.90121236e-01 -3.45181182e-01  1.11052001e+00] |   0.010 |   0.010\n",
            " 925 | [ 1.06226050e+01  5.00841962e-03  5.02260922e-03 -8.24459384e-01\n",
            "  5.90420580e-02  3.81500436e-01 -3.31651181e-01  1.10603390e+00] |   0.010 |   0.010\n",
            " 950 | [ 1.07598214e+01  5.02097297e-03  4.13316086e-03 -8.42713637e-01\n",
            "  6.22118554e-02  3.66450721e-01 -3.07321302e-01  1.09692702e+00] |   0.010 |   0.010\n",
            " 975 | [ 1.07850354e+01  5.02651590e-03  3.87278315e-03 -8.51840133e-01\n",
            "  6.26651864e-02  3.63653658e-01 -3.00137897e-01  1.09363269e+00] |   0.010 |   0.010\n",
            "1000 | [ 1.08043971e+01  5.02842137e-03  3.57995402e-03 -8.63476697e-01\n",
            "  6.31513411e-02  3.60578926e-01 -2.91897390e-01  1.09093163e+00] |   0.010 |   0.010\n",
            "\n",
            "--- Calibration Complete ---\n",
            "Calibrated Bates Parameters (Carr-Madan FFT):\n",
            "  kappa (mean reversion speed): 10.8106\n",
            "  theta (long-term variance):   0.0050\n",
            "  sigma (vol of vol):           0.0036\n",
            "  rho (correlation):            -0.8615\n",
            "  v0 (initial variance):        0.0632\n",
            "  lambda (jump intensity):      0.3607\n",
            "  mu (expected jump size):      -0.2925\n",
            "  delta (stdev of jump):        1.0903\n"
          ]
        },
        {
          "output_type": "stream",
          "name": "stderr",
          "text": [
            "/tmp/ipython-input-180-3066332731.py:38: RuntimeWarning: Maximum number of function evaluations has been exceeded.\n",
            "  result = fmin(\n"
          ]
        }
      ],
      "source": [
        "# Run the calibration\n",
        "\n",
        "print(\"Calibrating Bates (1996) Model using Carr-Madan FFT for 60-day maturity...\\n\")\n",
        "calibrated_params_fft = B96_FFT_calibration_full()\n",
        "\n",
        "kappa_v_fft, theta_v_fft, sigma_v_fft, rho_fft, v0_fft, lamb_fft, mu_fft, delta_fft = calibrated_params_fft\n",
        "\n",
        "print(\"\\n--- Calibration Complete ---\")\n",
        "print(\"Calibrated Bates Parameters (Carr-Madan FFT):\")\n",
        "print(f\"  kappa (mean reversion speed): {kappa_v_fft:.4f}\")\n",
        "print(f\"  theta (long-term variance):   {theta_v_fft:.4f}\")\n",
        "print(f\"  sigma (vol of vol):           {sigma_v_fft:.4f}\")\n",
        "print(f\"  rho (correlation):            {rho_fft:.4f}\")\n",
        "print(f\"  v0 (initial variance):        {v0_fft:.4f}\")\n",
        "print(f\"  lambda (jump intensity):      {lamb_fft:.4f}\")\n",
        "print(f\"  mu (expected jump size):      {mu_fft:.4f}\")\n",
        "print(f\"  delta (stdev of jump):        {delta_fft:.4f}\")"
      ]
    },
    {
      "cell_type": "markdown",
      "metadata": {
        "id": "e4f72812"
      },
      "source": [
        "### Model vs. Market prices after Carr-Madan Calibration"
      ]
    },
    {
      "cell_type": "code",
      "execution_count": null,
      "metadata": {
        "id": "6ecdae46"
      },
      "outputs": [],
      "source": [
        "def B96_FFT_calculate_model_values(p0):\n",
        "    \"\"\"Calculates all model values given parameter vector p0 using Carr-Madan FFT.\"\"\"\n",
        "    kappa_v, theta_v, sigma_v, rho, v0, lamb, mu, delta = p0\n",
        "    values = []\n",
        "    # Use the 60-day calibration data\n",
        "    for row, option in options.iterrows():\n",
        "         model_value = B96_Call_FFT(\n",
        "            S0,\n",
        "            option[\"Strike\"],\n",
        "            option[\"T\"],\n",
        "            option[\"r\"],\n",
        "            kappa_v,\n",
        "            theta_v,\n",
        "            sigma_v,\n",
        "            rho,\n",
        "            v0,\n",
        "            lamb,\n",
        "            mu,\n",
        "            delta,\n",
        "        )\n",
        "         values.append(model_value)\n",
        "    return np.array(values)\n",
        "\n",
        "def plot_calibration_results_fft(p0):\n",
        "    options[\"Model_FFT\"] = B96_FFT_calculate_model_values(p0)\n",
        "    plt.figure(figsize=(12, 8))\n",
        "    plt.subplot(211)\n",
        "    plt.grid()\n",
        "    plt.title(\"Bates Model Calibration (Carr-Madan FFT) vs. Market Prices (Maturity: %s days)\" % str(options[\"Days to maturity\"].iloc[0])[:10])\n",
        "    plt.ylabel(\"option values\")\n",
        "    plt.plot(options.Strike, options.Call, \"b\", label=\"market\")\n",
        "    plt.plot(options.Strike, options.Model_FFT, \"ro\", label=\"model (FFT)\")\n",
        "    plt.legend(loc=0)\n",
        "    plt.axis(\n",
        "        [\n",
        "            min(options.Strike) - 10,\n",
        "            max(options.Strike) + 10,\n",
        "            min(options.Call) - 10,\n",
        "            max(options.Call) + 10,\n",
        "        ]\n",
        "    )\n",
        "    plt.subplot(212)\n",
        "    plt.grid()\n",
        "    wi = 0.5\n",
        "    diffs = options.Model_FFT.values - options.Call.values\n",
        "    plt.bar(options.Strike.values - wi / 2, diffs, width=wi)\n",
        "    plt.ylabel(\"difference (Model - Market)\")\n",
        "    plt.xlabel(\"Strike Price\")\n",
        "    plt.axis(\n",
        "        [\n",
        "            min(options.Strike) - 10,\n",
        "            max(options.Strike) + 10,\n",
        "            min(diffs) * 1.1,\n",
        "            max(diffs) * 1.1,\n",
        "        ]\n",
        "    )\n",
        "    plt.tight_layout()\n",
        "    plt.show()"
      ]
    },
    {
      "cell_type": "code",
      "execution_count": null,
      "metadata": {
        "colab": {
          "base_uri": "https://localhost:8080/",
          "height": 531
        },
        "id": "f1a05072",
        "outputId": "06bf197b-83f1-4939-97ba-66d5605b34ea"
      },
      "outputs": [
        {
          "output_type": "display_data",
          "data": {
            "text/plain": [
              "<Figure size 1200x800 with 2 Axes>"
            ],
            "image/png": "[encoded data removed]"
          },
          "metadata": {}
        }
      ],
      "source": [
        "# Plot the calibration results\n",
        "plot_calibration_results_fft(calibrated_params_fft)"
      ]
    },
    {
      "cell_type": "markdown",
      "metadata": {
        "id": "OZf2HLjCGfuW"
      },
      "source": []
    },
    {
      "cell_type": "code",
      "execution_count": null,
      "metadata": {
        "id": "FBMYgZw0HZcc",
        "colab": {
          "base_uri": "https://localhost:8080/",
          "height": 35
        },
        "outputId": "7ea60aab-a236-4407-a55b-c95dfd3a7f82"
      },
      "outputs": [
        {
          "output_type": "execute_result",
          "data": {
            "text/plain": [
              "'Empty Space Separation'"
            ],
            "application/vnd.google.colaboratory.intrinsic+json": {
              "type": "string"
            }
          },
          "metadata": {},
          "execution_count": 185
        }
      ],
      "source": [
        "\"Empty Space Separation\""
      ]
    },
    {
      "cell_type": "markdown",
      "metadata": {
        "id": "M9PY68PRuzop"
      },
      "source": [
        "## **STEP 2C**"
      ]
    },
    {
      "cell_type": "code",
      "execution_count": null,
      "metadata": {
        "id": "pC0LOnsvvpXh"
      },
      "outputs": [],
      "source": [
        "def asian_option_heston_mc(S0, K, T, r, kappa_v, theta_v, sigma_v, rho, v0, N=250, M=10000):\n",
        "    # Prce path S(t) with Heston\n",
        "    S = heston_paths(S0, v0, kappa_v, theta_v, sigma_v, rho, r, T, N, M)\n",
        "    # Mean\n",
        "    S_avg = S.mean(axis=1)\n",
        "    # Payoff Asian Call\n",
        "    payoff = np.maximum(S_avg - K, 0)\n",
        "    #Present value\n",
        "    asian_price = np.exp(-r * T) * payoff.mean()\n",
        "    return asian_price\n"
      ]
    },
    {
      "cell_type": "code",
      "source": [
        "def heston_paths(S0, v0, kappa_v, theta_v, sigma_v, rho, r, T, N, M):\n",
        "    dt = T / N\n",
        "    S = np.zeros((M, N + 1))\n",
        "    v = np.zeros((M, N + 1))\n",
        "    S[:, 0] = S0\n",
        "    v[:, 0] = v0\n",
        "    for t in range(1, N + 1):\n",
        "        Z1 = np.random.normal(size=M)\n",
        "        Z2 = rho * Z1 + np.sqrt(1 - rho**2) * np.random.normal(size=M)\n",
        "        v[:, t] = np.maximum(\n",
        "            v[:, t-1] + kappa_v * (theta_v - v[:, t-1]) * dt +\n",
        "            sigma_v * np.sqrt(np.maximum(v[:, t-1], 0) * dt) * Z1, 0\n",
        "        )\n",
        "        S[:, t] = S[:, t-1] * np.exp(\n",
        "            (r - 0.5 * v[:, t-1]) * dt + np.sqrt(np.maximum(v[:, t-1], 0) * dt) * Z2\n",
        "        )\n",
        "    return S"
      ],
      "metadata": {
        "id": "FnPk9bXedxAB"
      },
      "execution_count": null,
      "outputs": []
    },
    {
      "cell_type": "code",
      "execution_count": null,
      "metadata": {
        "id": "0ggolHYIvAzL"
      },
      "outputs": [],
      "source": [
        "import numpy as np\n",
        "\n",
        "# Parameters\n",
        "S_ini = 232.90\n",
        "K = 0.95 * S_ini\n",
        "r = 0.015\n",
        "T = 70 / 365\n",
        "N = 70\n",
        "M = 100000\n",
        "\n",
        "# Heston model parameters\n",
        "#kappa = FFT_values[0]\n",
        "#theta = FFT_values[1]\n",
        "#sigma = FFT_values[2]\n",
        "#rho = FFT_values[3]\n",
        "#v0 = FFT_values[4]\n",
        "\n",
        "kappa = full_params[0]\n",
        "theta = full_params[1]\n",
        "sigma = full_params[2]\n",
        "rho = full_params[3]\n",
        "v0 = full_params[4]\n",
        "\n",
        "\n",
        "dt = T / N\n"
      ]
    },
    {
      "cell_type": "code",
      "source": [
        "asian_option_price = asian_option_heston_mc(S0, K, T, r, kappa, theta, sigma, rho, v0, N, M)\n",
        "\n",
        "print(f\"Asian option price under Heston model: {asian_option_price:.4f}\")"
      ],
      "metadata": {
        "colab": {
          "base_uri": "https://localhost:8080/"
        },
        "id": "9d2vsVbZ6zK9",
        "outputId": "8b5e0211-72ee-4bf9-d2cf-db2bdfb4d5e0"
      },
      "execution_count": null,
      "outputs": [
        {
          "output_type": "stream",
          "name": "stdout",
          "text": [
            "Asian option price under Heston model: 12.9953\n"
          ]
        }
      ]
    },
    {
      "cell_type": "markdown",
      "metadata": {
        "id": "nr7rsz1EiVgD"
      },
      "source": [
        "## Part 3: Interest Rate Modeling (Step 3 - Team Task)\n",
        "\n",
        "**Objective:**\n",
        "\n",
        "To account for interest rate risk, the team must calibrate a CIR (1985) model to the current Euribor term structure. After calibration, the model is used to simulate future interest rate paths.\n",
        "\n",
        "**Methodology: CIR Calibration and Simulation**\n",
        "\n",
        "First, we build a continuous term structure from the discrete Euribor rates using cubic spline interpolation. We then calibrate the CIR model's parameters ($\\kappa, \\theta, \\sigma$) by fitting the model's theoretical bond prices to the market curve. Finally, we perform a large-scale Monte Carlo simulation of the short-rate process to forecast its value and range in one year."
      ]
    },
    {
      "cell_type": "code",
      "execution_count": null,
      "metadata": {
        "id": "s0vODvwVo8dC",
        "colab": {
          "base_uri": "https://localhost:8080/",
          "height": 472
        },
        "outputId": "8d8e86be-6897-436e-92dd-b3d58562f195"
      },
      "outputs": [
        {
          "output_type": "display_data",
          "data": {
            "text/plain": [
              "<Figure size 640x480 with 1 Axes>"
            ],
            "image/png": "[encoded data removed]"
          },
          "metadata": {}
        }
      ],
      "source": [
        "from scipy.interpolate import CubicSpline\n",
        "from scipy.optimize import fmin\n",
        "\n",
        "mat_list = np.array((7, 30, 90, 180, 360))/360\n",
        "rate_list = np.array((0.00648, 0.00679, 0.01173, 0.01809, 0.02556))\n",
        "\n",
        "\n",
        "r0 = rate_list[0]\n",
        "factors = 1 + mat_list * rate_list\n",
        "zero_rates = 1 / mat_list * np.log(factors)\n",
        "\n",
        "plt.plot(mat_list, zero_rates, \"r.\", markersize=\"15\")\n",
        "plt.xlabel(\"Time Horizon\")\n",
        "plt.ylabel(\"Zero forward rate\")\n",
        "plt.title(\"Term Structure Euribor\")\n",
        "plt.show()\n"
      ]
    },
    {
      "cell_type": "code",
      "execution_count": null,
      "metadata": {
        "id": "5rbF17pgilrt",
        "colab": {
          "base_uri": "https://localhost:8080/",
          "height": 336
        },
        "outputId": "2aa88203-b32d-4a14-b80d-36c79ed83a49"
      },
      "outputs": [
        {
          "output_type": "display_data",
          "data": {
            "text/plain": [
              "<Figure size 1200x500 with 2 Axes>"
            ],
            "image/png": "[encoded data removed]"
          },
          "metadata": {}
        }
      ],
      "source": [
        "import numpy as np\n",
        "import pandas as pd\n",
        "from scipy.interpolate import CubicSpline\n",
        "from scipy.optimize import minimize\n",
        "import matplotlib.pyplot as plt\n",
        "\n",
        "# --- 1. Define Market Data and Interpolate ---\n",
        "euribor_maturities = np.array([1/52, 1/12, 3/12, 6/12, 12/12]) # In years\n",
        "euribor_rates = np.array([0.00648, 0.00679, 0.01173, 0.01809, 0.02556])\n",
        "\n",
        "cs = CubicSpline(euribor_maturities, euribor_rates)\n",
        "interp_maturities = np.linspace(1/52, 1, 52) # Weekly rates for 1 year\n",
        "interp_rates = cs(interp_maturities)\n",
        "r0 = euribor_rates[0] # Initial short rate\n",
        "\n",
        "# --- 2. Define CIR Model and Objective Function ---\n",
        "def cir_A(t, T, kappa, theta, sigma):\n",
        "    gamma = np.sqrt(kappa**2 + 2*sigma**2)\n",
        "    return ((2*gamma*np.exp((kappa+gamma)*(T-t)/2)) / ((gamma+kappa)*(np.exp(gamma*(T-t))-1)+2*gamma))**(2*kappa*theta/sigma**2)\n",
        "\n",
        "def cir_B(t, T, kappa, theta, sigma):\n",
        "    gamma = np.sqrt(kappa**2 + 2*sigma**2)\n",
        "    return (2*(np.exp(gamma*(T-t))-1)) / ((gamma+kappa)*(np.exp(gamma*(T-t))-1)+2*gamma)\n",
        "\n",
        "def cir_bond_price(t, T, r_t, kappa, theta, sigma):\n",
        "    A = cir_A(t, T, kappa, theta, sigma)\n",
        "    B = cir_B(t, T, kappa, theta, sigma)\n",
        "    return A * np.exp(-B * r_t)\n",
        "\n",
        "def cir_objective_function(params, maturities, rates):\n",
        "    kappa, theta, sigma = params\n",
        "    model_prices = cir_bond_price(0, maturities, r0, kappa, theta, sigma)\n",
        "    model_rates = -np.log(model_prices) / maturities\n",
        "    return np.mean((rates - model_rates)**2)\n",
        "\n",
        "# --- 3. Calibrate CIR Model ---\n",
        "initial_params = [0.2, 0.03, 0.05]\n",
        "bounds = [(0.01, 1), (0.01, 0.1), (0.01, 0.2)]\n",
        "cir_result = minimize(cir_objective_function, initial_params, args=(interp_maturities, interp_rates), bounds=bounds)\n",
        "kappa_c, theta_c, sigma_c = cir_result.x\n",
        "\n",
        "# --- 4. Simulate Future Rates ---\n",
        "N_SIMS_CIR = 100000\n",
        "N_STEPS_CIR = 250\n",
        "T_CIR = 1.0\n",
        "dt_cir = T_CIR / N_STEPS_CIR\n",
        "\n",
        "rates_sim = np.full((N_SIMS_CIR, N_STEPS_CIR + 1), r0)\n",
        "for i in range(N_STEPS_CIR):\n",
        "    dW = np.random.standard_normal(N_SIMS_CIR) * np.sqrt(dt_cir)\n",
        "    dr = kappa_c * (theta_c - rates_sim[:, i]) * dt_cir + sigma_c * np.sqrt(rates_sim[:, i]) * dW\n",
        "    rates_sim[:, i+1] = np.abs(rates_sim[:, i] + dr)\n",
        "\n",
        "final_rates = rates_sim[:, -1]\n",
        "expected_rate_1y = np.mean(final_rates)\n",
        "conf_level = 0.95\n",
        "lower_bound = np.percentile(final_rates, (1-conf_level)/2 * 100)\n",
        "upper_bound = np.percentile(final_rates, (1-(1-conf_level)/2) * 100)\n",
        "\n",
        "# --- 5. Visualize Results ---\n",
        "model_prices_final = cir_bond_price(0, interp_maturities, r0, kappa_c, theta_c, sigma_c)\n",
        "model_rates_final = -np.log(model_prices_final) / interp_maturities\n",
        "\n",
        "plt.figure(figsize=(12, 5))\n",
        "plt.subplot(1, 2, 1)\n",
        "plt.plot(euribor_maturities*12, euribor_rates*100, 'o', label='Market Euribor Rates')\n",
        "plt.plot(interp_maturities*12, model_rates_final*100, '-', label='Calibrated CIR Yield Curve')\n",
        "plt.title('CIR Model Fit to Euribor Curve')\n",
        "plt.xlabel('Maturity (Months)')\n",
        "plt.ylabel('Rate (%)')\n",
        "plt.legend()\n",
        "plt.grid(True)\n",
        "\n",
        "plt.subplot(1, 2, 2)\n",
        "plt.hist(final_rates*100, bins=50, density=True, alpha=0.7)\n",
        "plt.axvline(expected_rate_1y*100, color='r', linestyle='--', label=f'Expected Rate: {expected_rate_1y:.2%}')\n",
        "plt.title('Distribution of Euribor Short Rate in 1 Year')\n",
        "plt.xlabel('Rate (%)')\n",
        "plt.ylabel('Density')\n",
        "plt.legend()\n",
        "plt.grid(True)\n",
        "\n",
        "plt.tight_layout()\n",
        "plt.show()"
      ]
    },
    {
      "cell_type": "markdown",
      "metadata": {
        "id": "SHUYXCjkmlbk"
      },
      "source": [
        "## **3B**"
      ]
    },
    {
      "cell_type": "code",
      "execution_count": null,
      "metadata": {
        "id": "DrfHY7nWpHsz"
      },
      "outputs": [],
      "source": [
        "from scipy.interpolate import splev, splrep\n",
        "\n",
        "bspline = splrep(mat_list, zero_rates, k=3)  # Cubic spline\n",
        "mat_list_n = np.linspace(\n",
        "    0.0, 1.0, 24\n",
        ")  # Create 24 equally spaced maturities between 0 and 1\n",
        "inter_rates = splev(mat_list_n, bspline, der=0)  # Interpolated rates\n",
        "\n",
        "first_der = splev(mat_list_n, bspline, der=1)  # First derivative of spline\n",
        "f = (\n",
        "    inter_rates + first_der * mat_list_n\n",
        ")  # Forward rate given interpolated ones and first derivative"
      ]
    },
    {
      "cell_type": "code",
      "execution_count": null,
      "metadata": {
        "id": "ovPFr6nUpR7L",
        "colab": {
          "base_uri": "https://localhost:8080/",
          "height": 432
        },
        "outputId": "ed5801b9-ef3b-47e4-c05b-e8f99c8d60e4"
      },
      "outputs": [
        {
          "output_type": "display_data",
          "data": {
            "text/plain": [
              "<Figure size 1200x600 with 1 Axes>"
            ],
            "image/png": "[encoded data removed]"
          },
          "metadata": {}
        }
      ],
      "source": [
        "plt.figure(figsize=(12, 6))\n",
        "plt.plot(mat_list, zero_rates, \"r.\", markersize=\"15\", label=\"Market quotes\")\n",
        "plt.plot(mat_list_n, inter_rates, \"--\", markersize=\"10\", label=\"Interpolation\")\n",
        "plt.plot(mat_list_n, first_der, \"g--\", markersize=\"10\", label=\"1st derivative\")\n",
        "plt.xlabel(\"Time Horizon\")\n",
        "plt.ylabel(\"Zero forward rate\")\n",
        "plt.title(\"Term Structure Euribor\")\n",
        "plt.legend()\n",
        "plt.show()"
      ]
    },
    {
      "cell_type": "code",
      "execution_count": null,
      "metadata": {
        "id": "s_1JLHRLpTh5"
      },
      "outputs": [],
      "source": [
        "def CIR_forward_rate(alpha):\n",
        "    \"\"\"\n",
        "    Forward rates in CIR (1985) model\n",
        "    The set of parameters is called alpha and include Kappa_r, Theta_r and Sigma_r\n",
        "    \"\"\"\n",
        "\n",
        "    kappa_r, theta_r, sigma_r = alpha\n",
        "\n",
        "    t = mat_list_n\n",
        "    g = np.sqrt(kappa_r**2 + 2 * sigma_r**2)\n",
        "\n",
        "    s1 = (kappa_r * theta_r * (np.exp(g * t) - 1)) / (\n",
        "        2 * g + (kappa_r + g) * (np.exp(g * t) - 1)\n",
        "    )\n",
        "\n",
        "    s2 = r0 * (\n",
        "        (4 * g**2 * np.exp(g * t)) / (2 * g + (kappa_r + g) * (np.exp(g * t)) ** 2)\n",
        "    )\n",
        "\n",
        "    return s1 + s2"
      ]
    },
    {
      "cell_type": "code",
      "execution_count": null,
      "metadata": {
        "id": "rALU9cXcpVjj"
      },
      "outputs": [],
      "source": [
        "def CIR_error_function(alpha):\n",
        "    \"\"\"\n",
        "    Error function to calibrate CIR (1985) model\n",
        "    \"\"\"\n",
        "    kappa_r, theta_r, sigma_r = alpha\n",
        "\n",
        "    # Few remarks to avoid problems for certain values of parameters:\n",
        "    if 2 * kappa_r * theta_r < sigma_r**2:\n",
        "        return 100\n",
        "    if kappa_r < 0 or theta_r < 0 or sigma_r < 0.001:\n",
        "        return 100\n",
        "\n",
        "    forward_rates = CIR_forward_rate(alpha)\n",
        "    MSE = np.sum((f - forward_rates) ** 2) / len(f)\n",
        "\n",
        "    return MSE"
      ]
    },
    {
      "cell_type": "code",
      "execution_count": null,
      "metadata": {
        "id": "AovRNTmtpW1Y"
      },
      "outputs": [],
      "source": [
        "def CIR_calibration():\n",
        "    opt = fmin(\n",
        "        CIR_error_function,\n",
        "        [1.0, 0.02, 0.1],\n",
        "        xtol=0.00001,\n",
        "        ftol=0.00001,\n",
        "        maxiter=300,\n",
        "        maxfun=500,\n",
        "    )\n",
        "\n",
        "    return opt"
      ]
    },
    {
      "cell_type": "code",
      "execution_count": null,
      "metadata": {
        "id": "l9z4EagQpcNG",
        "colab": {
          "base_uri": "https://localhost:8080/"
        },
        "outputId": "08e1aa69-6c86-446d-81ca-0086bdb7ca28"
      },
      "outputs": [
        {
          "output_type": "stream",
          "name": "stdout",
          "text": [
            "Optimization terminated successfully.\n",
            "         Current function value: 0.000003\n",
            "         Iterations: 161\n",
            "         Function evaluations: 288\n"
          ]
        },
        {
          "output_type": "execute_result",
          "data": {
            "text/plain": [
              "array([0.98908305, 0.10863186, 0.00100074])"
            ]
          },
          "metadata": {},
          "execution_count": 197
        }
      ],
      "source": [
        "params = CIR_calibration()\n",
        "params"
      ]
    },
    {
      "cell_type": "code",
      "execution_count": null,
      "metadata": {
        "id": "wffHn2Nrpdtc"
      },
      "outputs": [],
      "source": [
        "def plot_calibrated_frc(opt):\n",
        "    \"\"\"Plots market and calibrated forward rate curves.\"\"\"\n",
        "    forward_rates = CIR_forward_rate(opt)\n",
        "    plt.figure(figsize=(12, 8))\n",
        "    plt.subplot(211)\n",
        "    plt.title(\"CIR model calibration\")\n",
        "    plt.ylabel(\"Forward rate $f(0,T)$\")\n",
        "    plt.plot(mat_list_n, f, \"ro\", label=\"market\")\n",
        "    plt.plot(mat_list_n, forward_rates, \"b--\", label=\"model\")\n",
        "    plt.legend(loc=0)\n",
        "    plt.axis(\n",
        "        [min(mat_list_n) - 0.05, max(mat_list_n) + 0.05, min(f) - 0.005, max(f) * 1.1]\n",
        "    )\n",
        "    plt.subplot(212)\n",
        "    wi = 0.02\n",
        "    plt.bar(mat_list_n - wi / 2, forward_rates - f, width=wi)\n",
        "    plt.xlabel(\"Time horizon\")\n",
        "    plt.ylabel(\"Difference\")\n",
        "    plt.axis(\n",
        "        [\n",
        "            min(mat_list_n) - 0.05,\n",
        "            max(mat_list_n) + 0.05,\n",
        "            min(forward_rates - f) * 1.1,\n",
        "            max(forward_rates - f) * 1.1,\n",
        "        ]\n",
        "    )\n",
        "    plt.tight_layout()"
      ]
    },
    {
      "cell_type": "code",
      "execution_count": null,
      "metadata": {
        "id": "NurLrbrFphGq",
        "colab": {
          "base_uri": "https://localhost:8080/",
          "height": 532
        },
        "outputId": "4df37356-7178-45a0-e35a-0ddf75a913e0"
      },
      "outputs": [
        {
          "output_type": "display_data",
          "data": {
            "text/plain": [
              "<Figure size 1200x800 with 2 Axes>"
            ],
            "image/png": "[encoded data removed]"
          },
          "metadata": {}
        }
      ],
      "source": [
        "plot_calibrated_frc(params)"
      ]
    },
    {
      "cell_type": "markdown",
      "metadata": {
        "id": "0uksDU4Ppmkk"
      },
      "source": [
        "# **STEP 3B**"
      ]
    },
    {
      "cell_type": "code",
      "execution_count": null,
      "metadata": {
        "id": "GubwajjBpsEH"
      },
      "outputs": [],
      "source": [
        "def cir(r0, k, theta, sigma, T, N, M):\n",
        "    dt = T / N\n",
        "    rates = np.zeros((N, M))\n",
        "    rates[0, :] = r0\n",
        "    for j in range(M):\n",
        "        for i in range(1, N):\n",
        "            dr = (\n",
        "                k * (theta - rates[i - 1, j]) * dt\n",
        "                + sigma\n",
        "                * np.sqrt(dt)\n",
        "                * np.sqrt(np.maximum(rates[i - 1, j], 0))\n",
        "                * np.random.normal()\n",
        "            )\n",
        "            rates[i, j] = rates[i - 1, j] + dr\n",
        "    return rates"
      ]
    },
    {
      "cell_type": "code",
      "execution_count": null,
      "metadata": {
        "id": "GC3KC2L4psWd",
        "colab": {
          "base_uri": "https://localhost:8080/"
        },
        "outputId": "220f2d20-e2e7-45d3-ad2d-a53a371234ba"
      },
      "outputs": [
        {
          "output_type": "stream",
          "name": "stdout",
          "text": [
            "0.9890830469294195 0.10863186174786685 0.0010007393949653491\n"
          ]
        }
      ],
      "source": [
        "k, theta, sigma = params\n",
        "print (k, theta, sigma )\n",
        "M = 100000  # Number of paths for MC\n",
        "N = 360# Number of steps\n",
        "T = 1  # Maturity\n",
        "r0=1.5/100\n",
        "rates_cir = cir(r0, k, theta, sigma, T, N, M)"
      ]
    },
    {
      "cell_type": "code",
      "execution_count": null,
      "metadata": {
        "id": "qXlL8tfxpthd",
        "colab": {
          "base_uri": "https://localhost:8080/"
        },
        "outputId": "6e9b98a3-7002-4591-c631-f1654b306fc0"
      },
      "outputs": [
        {
          "output_type": "execute_result",
          "data": {
            "text/plain": [
              "array([[0.015     , 0.015     , 0.015     , ..., 0.015     , 0.015     ,\n",
              "        0.015     ],\n",
              "       [0.015255  , 0.0152662 , 0.01526146, ..., 0.01524684, 0.01526065,\n",
              "        0.01526464],\n",
              "       [0.01551978, 0.01552882, 0.01552294, ..., 0.01549001, 0.01551802,\n",
              "        0.01552677],\n",
              "       ...,\n",
              "       [0.0738144 , 0.07356524, 0.07363514, ..., 0.07377252, 0.0737143 ,\n",
              "        0.07346733],\n",
              "       [0.07391302, 0.07365511, 0.07375635, ..., 0.07387332, 0.07379575,\n",
              "        0.07354995],\n",
              "       [0.07402032, 0.07375978, 0.07385594, ..., 0.07399041, 0.07388272,\n",
              "        0.07364807]])"
            ]
          },
          "metadata": {},
          "execution_count": 202
        }
      ],
      "source": [
        "rates_cir"
      ]
    },
    {
      "cell_type": "code",
      "execution_count": null,
      "metadata": {
        "id": "iAF8Kk5apu2I",
        "colab": {
          "base_uri": "https://localhost:8080/",
          "height": 487
        },
        "outputId": "ad792a47-593c-407b-f961-faa7df0f7d14"
      },
      "outputs": [
        {
          "output_type": "display_data",
          "data": {
            "text/plain": [
              "<Figure size 640x480 with 1 Axes>"
            ],
            "image/png": "[encoded data removed]"
          },
          "metadata": {}
        }
      ],
      "source": [
        "t = np.linspace(0, T, N)\n",
        "for j in range(M):\n",
        "    plt.plot(t, rates_cir[:, j])\n",
        "\n",
        "plt.xlabel(\"Time $t$\")\n",
        "plt.ylabel(\"$r(t)$\")\n",
        "plt.title(\"CIR Paths\")\n",
        "axes = plt.gca()\n",
        "axes.set_xlim([0, T])\n",
        "plt.xticks(fontsize=14)\n",
        "plt.yticks(fontsize=14)\n",
        "plt.tight_layout()\n",
        "plt.show()"
      ]
    },
    {
      "cell_type": "code",
      "execution_count": null,
      "metadata": {
        "id": "2hfb9DpSpwRJ",
        "colab": {
          "base_uri": "https://localhost:8080/"
        },
        "outputId": "be008687-a33e-4e59-b6f6-1e7678236dfd"
      },
      "outputs": [
        {
          "output_type": "stream",
          "name": "stdout",
          "text": [
            "Level of confidence 95%: 0.0172 – 0.0729\n",
            "Expected value of the 12-month Euribor in 1 year: 0.0491\n",
            "The current 12-month Euribor rate: 0.0150\n"
          ]
        }
      ],
      "source": [
        "# i. Level of confidence 95%\n",
        "lower = np.percentile(rates_cir, 2.5)\n",
        "upper = np.percentile(rates_cir, 97.5)\n",
        "print(f\"Level of confidence 95%: {lower:.4f} – {upper:.4f}\")\n",
        "\n",
        "# ii. The expected value of the 12-month Euribor in 1 year\n",
        "expected = np.mean(rates_cir)\n",
        "print(f\"Expected value of the 12-month Euribor in 1 year: {expected:.4f}\")\n",
        "\n",
        "# iii. Expected number affect the pricing of your products in 1 year versus the current 12-month Euribor rate\n",
        "print(f\"The current 12-month Euribor rate: {r0:.4f}\")"
      ]
    },
    {
      "cell_type": "code",
      "execution_count": null,
      "metadata": {
        "id": "1ad0adb1"
      },
      "outputs": [],
      "source": [
        "def asian_option_mc(S_ini, K, T, r, sigma, N, M):\n",
        "    \"\"\"\n",
        "    Calculate the price of an Asian call option using Monte Carlo simulation.\n",
        "\n",
        "    Parameters:\n",
        "    S_ini (float): Initial stock price.\n",
        "    K (float): Strike price.\n",
        "    T (float): Time to maturity in years.\n",
        "    r (float): Risk-free rate.\n",
        "    sigma (float): Volatility of the underlying asset.\n",
        "    N (int): Number of time steps.\n",
        "    M (int): Number of Monte Carlo paths.\n",
        "\n",
        "    Returns:\n",
        "    tuple: A tuple containing:\n",
        "        - S (numpy.ndarray): Array of simulated stock prices.\n",
        "        - asian_price (numpy.ndarray): Array of discounted Asian option payoffs for each path.\n",
        "    \"\"\"\n",
        "    dt = T / N\n",
        "    S = np.zeros((N + 1, M))\n",
        "    S[0, :] = S_ini\n",
        "    for i in range(1, N + 1):\n",
        "        z = np.random.standard_normal(M)\n",
        "        S[i, :] = S[i - 1, :] * np.exp((r - 0.5 * sigma**2) * dt + sigma * np.sqrt(dt) * z)\n",
        "\n",
        "    # Calculate the average price for each path\n",
        "    average_price = np.mean(S[1:, :], axis=0)\n",
        "\n",
        "    # Calculate the payoff for each path\n",
        "    payoff = np.maximum(average_price - K, 0)\n",
        "\n",
        "    # Discount the payoff to get the present value\n",
        "    discounted_payoff = np.exp(-r * T) * payoff\n",
        "\n",
        "    return S, discounted_payoff"
      ]
    },
    {
      "cell_type": "markdown",
      "metadata": {
        "id": "IcIwijJ0iwuD"
      },
      "source": [
        "### Discussion of Results\n",
        "\n",
        "The expected value of the short rate in one year is around **4.30%-4.91%**, which is higher than the current 12-month rate of 2.56%. This indicates a market expectation of rising rates.\n",
        "\n",
        "- **Impact on Future Pricing:** This expected increase in interest rates will directly affect the pricing of new products in one year. A higher risk-free rate leads to heavier discounting of future cash flows. This means:\n",
        "    - **Call options** will become cheaper.\n",
        "    - **Put options** will become more expensive.\n",
        "    - The firm's valuation of fixed-income instruments will also need to be adjusted accordingly."
      ]
    },
    {
      "cell_type": "code",
      "execution_count": null,
      "metadata": {
        "id": "p2F831gFixlE"
      },
      "outputs": [],
      "source": []
    }
  ],
  "metadata": {
    "colab": {
      "provenance": [],
      "toc_visible": true,
      "include_colab_link": true
    },
    "kernelspec": {
      "display_name": "Python 3",
      "name": "python3"
    },
    "language_info": {
      "name": "python"
    }
  },
  "nbformat": 4,
  "nbformat_minor": 0
}